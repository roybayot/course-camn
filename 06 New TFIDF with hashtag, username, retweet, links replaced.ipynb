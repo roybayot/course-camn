{
 "cells": [
  {
   "cell_type": "code",
   "execution_count": 48,
   "metadata": {
    "collapsed": true
   },
   "outputs": [],
   "source": [
    "import pandas as pd\n",
    "import numpy as np\n",
    "from sklearn.feature_extraction.text import TfidfVectorizer\n",
    "from bs4 import BeautifulSoup\n",
    "import sys\n",
    "import os\n",
    "\n",
    "import sklearn\n",
    "from sklearn import cross_validation\n",
    "from sklearn import svm\n",
    "from sklearn import metrics\n",
    "\n",
    "reload(sys)\n",
    "#sys.setdefaultencoding(\"ISO-8859-1\")\n",
    "sys.setdefaultencoding(\"UTF-8\")\n",
    "\n",
    "def clean_text(raw_text):\n",
    "    review_text = BeautifulSoup(raw_text).get_text()\n",
    "    words = review_text.lower().split()\n",
    "    return(\" \".join(words))"
   ]
  },
  {
   "cell_type": "code",
   "execution_count": 49,
   "metadata": {
    "collapsed": false
   },
   "outputs": [],
   "source": [
    "import re \n",
    "\n",
    "languages = [\"english\"]\n",
    "datafiles = [\"summary-english-truth.txt\"]\n",
    "tasks = [\"age\"]\n",
    "\n",
    "train = pd.read_csv(\"summary-english-truth.txt\", header=0, delimiter=\"\\t\", quoting=1)\n",
    "num_text = train[\"text\"].size\n",
    "\n",
    "clean_train_data = []\n",
    "urls = []\n",
    "hashtags = []\n",
    "for i in xrange( 0, num_text):\n",
    "    one_clean_line = clean_text( train[\"text\"][i] )\n",
    "    new_clean_line = \"\"\n",
    "    #replacing links\n",
    "    url = re.findall('http[s]?://(?:[a-zA-Z]|[0-9]|[$-_@.&+]|[!*\\(\\),]|(?:%[0-9a-fA-F][0-9a-fA-F]))+', one_clean_line)\n",
    "    for one_url in url:\n",
    "        new_clean_line = one_clean_line.replace(one_url, \" LINK_HERE \")\n",
    "        one_clean_line = new_clean_line\n",
    "    urls.append(url)\n",
    "    \n",
    "    hashtag = re.findall('#(?:[a-zA-Z]|[0-9]|[$-_@.&+]|[!*\\(\\),]|(?:%[0-9a-fA-F][0-9a-fA-F]))+', one_clean_line)\n",
    "    \n",
    "    for one_hashtag in hashtag:\n",
    "        new_clean_line = one_clean_line.replace(one_hashtag, \" HASHTAG_HERE \")\n",
    "        one_clean_line = new_clean_line\n",
    "        \n",
    "    urls.append(url)\n",
    "    hashtags.append(hashtag)\n",
    "    clean_train_data.append( one_clean_line )"
   ]
  },
  {
   "cell_type": "code",
   "execution_count": 50,
   "metadata": {
    "collapsed": false
   },
   "outputs": [
    {
     "data": {
      "text/plain": [
       "(152, 18457)"
      ]
     },
     "execution_count": 50,
     "metadata": {},
     "output_type": "execute_result"
    }
   ],
   "source": [
    "vectorizer = TfidfVectorizer(analyzer = \"word\", tokenizer = None, preprocessor = None)\n",
    "train_x = vectorizer.fit_transform(clean_train_data)\n",
    "train_x = train_x.toarray()\n",
    "train_x.shape"
   ]
  },
  {
   "cell_type": "code",
   "execution_count": 51,
   "metadata": {
    "collapsed": false
   },
   "outputs": [],
   "source": [
    "def makeArff(train_x, train_y, task, feature_names):\n",
    "    rows, cols = train_x.shape\n",
    "    file_name = \"new-\"+task + \".arff\"\n",
    "    file = open(file_name, \"w\")\n",
    "    file.write(\"@relation\" + \" \" + task + \"\\n\")\n",
    "    \n",
    "    for each_feature_name in feature_names:\n",
    "        file.write(\"@attribute\" + \" \" + each_feature_name + \" \" + \"real\\n\")\n",
    "    \n",
    "    if task == \"gender\":\n",
    "        class_vals = \"{0,1}\"\n",
    "    else:\n",
    "        class_vals = \"{0,1,2,3}\"\n",
    "    \n",
    "    file.write(\"@attribute\" + \" target_class \" + class_vals + \"\\n\")\n",
    "    file.write(\"@data\"+ \"\\n\")\n",
    "    \n",
    "    for row in range(0,rows):\n",
    "        for col in range(0,cols):\n",
    "            file.write(str(train_x[row][col]) + \",\")\n",
    "        file.write(str(train_y[row]) + \"\\n\")\n",
    "    file.close()"
   ]
  },
  {
   "cell_type": "code",
   "execution_count": 52,
   "metadata": {
    "collapsed": false
   },
   "outputs": [],
   "source": [
    "feature_names = vectorizer.get_feature_names()"
   ]
  },
  {
   "cell_type": "code",
   "execution_count": 53,
   "metadata": {
    "collapsed": false
   },
   "outputs": [],
   "source": [
    "tasks = [\"age\", \"gender\"]\n"
   ]
  },
  {
   "cell_type": "code",
   "execution_count": 54,
   "metadata": {
    "collapsed": false
   },
   "outputs": [],
   "source": [
    "for task in tasks:\n",
    "    train_y = train[task]\n",
    "    makeArff(train_x, train_y, task, feature_names)"
   ]
  },
  {
   "cell_type": "code",
   "execution_count": 55,
   "metadata": {
    "collapsed": true
   },
   "outputs": [],
   "source": [
    "#looking into age - 9000 features"
   ]
  },
  {
   "cell_type": "code",
   "execution_count": 57,
   "metadata": {
    "collapsed": true
   },
   "outputs": [],
   "source": [
    "with open('new-age-important-words-using-info-gain.txt') as f:\n",
    "    alist = [line.rstrip() for line in f]\n",
    "all_indices_ranked = alist[0].split(',')\n",
    "all_indices_ranked = [int(x) for x in all_indices_ranked]\n",
    "all_indices_ranked = [x-1 for x in all_indices_ranked]\n",
    "\n",
    "num_features = 9000\n",
    "xx = [all_indices_ranked[x] for x in range(0, num_features)]\n",
    "xx = tuple(xx)\n",
    "age_features_smaller_train_x = train_x[:, xx]"
   ]
  },
  {
   "cell_type": "code",
   "execution_count": 60,
   "metadata": {
    "collapsed": true
   },
   "outputs": [],
   "source": [
    "train = pd.read_csv(\"summary-english-truth.txt\", header=0, delimiter=\"\\t\", quoting=1)\n",
    "train_y_age = train['age']\n",
    "clf1 = svm.SVC(kernel='poly', degree=3, coef0=10, gamma=1)\n",
    "scores_age = cross_validation.cross_val_score(clf1, age_features_smaller_train_x, train_y_age, cv=10, scoring='accuracy')"
   ]
  },
  {
   "cell_type": "code",
   "execution_count": 61,
   "metadata": {
    "collapsed": false
   },
   "outputs": [
    {
     "data": {
      "text/plain": [
       "0.80515406162464986"
      ]
     },
     "execution_count": 61,
     "metadata": {},
     "output_type": "execute_result"
    }
   ],
   "source": [
    "scores_age.mean()"
   ]
  },
  {
   "cell_type": "code",
   "execution_count": 63,
   "metadata": {
    "collapsed": true
   },
   "outputs": [],
   "source": [
    "with open('new-gender-important-words-using-info-gain.txt') as f:\n",
    "    alist = [line.rstrip() for line in f]\n",
    "all_indices_ranked = alist[0].split(',')\n",
    "all_indices_ranked = [int(x) for x in all_indices_ranked]\n",
    "all_indices_ranked = [x-1 for x in all_indices_ranked]\n",
    "\n",
    "num_features = 7000\n",
    "xx = [all_indices_ranked[x] for x in range(0, num_features)]\n",
    "xx = tuple(xx)\n",
    "gender_features_smaller_train_x = train_x[:, xx]"
   ]
  },
  {
   "cell_type": "code",
   "execution_count": 64,
   "metadata": {
    "collapsed": true
   },
   "outputs": [],
   "source": [
    "train = pd.read_csv(\"summary-english-truth.txt\", header=0, delimiter=\"\\t\", quoting=1)\n",
    "train_y_gender = train['gender']\n",
    "clf2 = svm.SVC(kernel='poly', degree=2, coef0=10000, gamma=1)\n",
    "scores_gender = cross_validation.cross_val_score(clf2, gender_features_smaller_train_x, train_y_gender, cv=10, scoring='accuracy')"
   ]
  },
  {
   "cell_type": "code",
   "execution_count": 65,
   "metadata": {
    "collapsed": false
   },
   "outputs": [
    {
     "data": {
      "text/plain": [
       "0.76875000000000004"
      ]
     },
     "execution_count": 65,
     "metadata": {},
     "output_type": "execute_result"
    }
   ],
   "source": [
    "scores_gender.mean()"
   ]
  },
  {
   "cell_type": "code",
   "execution_count": null,
   "metadata": {
    "collapsed": true
   },
   "outputs": [],
   "source": []
  }
 ],
 "metadata": {
  "kernelspec": {
   "display_name": "Python 2",
   "language": "python",
   "name": "python2"
  },
  "language_info": {
   "codemirror_mode": {
    "name": "ipython",
    "version": 2
   },
   "file_extension": ".py",
   "mimetype": "text/x-python",
   "name": "python",
   "nbconvert_exporter": "python",
   "pygments_lexer": "ipython2",
   "version": "2.7.6"
  }
 },
 "nbformat": 4,
 "nbformat_minor": 0
}
