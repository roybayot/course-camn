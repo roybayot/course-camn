{
 "cells": [
  {
   "cell_type": "code",
   "execution_count": 25,
   "metadata": {
    "collapsed": true
   },
   "outputs": [],
   "source": [
    "import pandas as pd\n",
    "import numpy as np\n",
    "from sklearn.feature_extraction.text import TfidfVectorizer\n",
    "from bs4 import BeautifulSoup\n",
    "import sys\n",
    "import os\n",
    "\n",
    "import sklearn\n",
    "from sklearn import cross_validation\n",
    "from sklearn import svm\n",
    "from sklearn import metrics\n",
    "from scipy import stats\n",
    "\n",
    "reload(sys)\n",
    "#sys.setdefaultencoding(\"ISO-8859-1\")\n",
    "sys.setdefaultencoding(\"UTF-8\")"
   ]
  },
  {
   "cell_type": "code",
   "execution_count": 26,
   "metadata": {
    "collapsed": true
   },
   "outputs": [],
   "source": [
    "def clean_text(raw_text):\n",
    "    review_text = BeautifulSoup(raw_text).get_text()\n",
    "    words = review_text.lower().split()\n",
    "    return(\" \".join(words))"
   ]
  },
  {
   "cell_type": "code",
   "execution_count": 27,
   "metadata": {
    "collapsed": true
   },
   "outputs": [],
   "source": [
    "def clean_all_text(allText, numLines):\n",
    "    clean_train_data = []\n",
    "    for i in xrange(0, numLines):\n",
    "        clean_train_data.append(clean_text(allText[i]))\n",
    "    return clean_train_data"
   ]
  },
  {
   "cell_type": "code",
   "execution_count": 28,
   "metadata": {
    "collapsed": false
   },
   "outputs": [],
   "source": [
    "def featureSelection(train_x, task, train_y):\n",
    "    rows, cols = train_x.shape\n",
    "    top_info_words_numbers = [100, 200, 300, 500, 700, 1000, 2000, 5000, 7000, 8000, 9000, 10000, cols-1]\n",
    "    top_info_words_numbers =  sorted(top_info_words_numbers, reverse=True)\n",
    "\n",
    "    feature_selection_result = {}\n",
    "    \n",
    "    task_to_filenames = {'age': ['age-important-words-using-info-gain.txt', 'age-important-words-using-gain-ratio.txt'],\n",
    "                 'gender': ['gender-important-words-info-gain.txt', 'gender-important-words-gain-ratio.txt']\n",
    "                }\n",
    "    \n",
    "    filenames = task_to_filenames[task]\n",
    "    for filename in filenames:\n",
    "        with open(filename) as f:\n",
    "            alist = [line.rstrip() for line in f]\n",
    "        all_indices_ranked = alist[0].split(',')\n",
    "        all_indices_ranked = [int(x) for x in all_indices_ranked]\n",
    "        all_indices_ranked = [x-1 for x in all_indices_ranked]\n",
    "        \n",
    "        list_of_scores = []\n",
    "        for num_info_words in top_info_words_numbers:\n",
    "            clf = svm.SVC(kernel='linear', C=1)\n",
    "            scoring_function = 'accuracy'\n",
    "            \n",
    "            xx = [all_indices_ranked[x] for x in range(0, num_info_words)]\n",
    "            xx = tuple(xx)\n",
    "            smaller_train_x = train_x[:, xx]\n",
    "\n",
    "            scores = cross_validation.cross_val_score(clf, smaller_train_x, train_y, cv=10, scoring=scoring_function)\n",
    "            list_of_scores.append(scores)\n",
    "            \n",
    "            feature_selection_result[filename] = list_of_scores\n",
    "    return feature_selection_result\n",
    "            "
   ]
  },
  {
   "cell_type": "code",
   "execution_count": 15,
   "metadata": {
    "collapsed": true
   },
   "outputs": [],
   "source": [
    "def doSVMwithPoly():\n",
    "    pass"
   ]
  },
  {
   "cell_type": "code",
   "execution_count": 16,
   "metadata": {
    "collapsed": true
   },
   "outputs": [],
   "source": [
    "def doSVMwithRBF():\n",
    "    pass"
   ]
  },
  {
   "cell_type": "code",
   "execution_count": 31,
   "metadata": {
    "collapsed": true
   },
   "outputs": [],
   "source": [
    "def calculatePValue(input_dictionary):\n",
    "    p_values_dictionary = {}\n",
    "    for each_key in input_dictionary.keys():\n",
    "        list_of_scores = input_dictionary[each_key]\n",
    "        i = range(0,len(list_of_scores))\n",
    "        list_of_pvalues = []\n",
    "        for x, i  in zip(list_of_scores,i):\n",
    "            z_stat, p_val = stats.ranksums(list_of_scores[0], x)\n",
    "            list_of_pvalues.append( p_val)\n",
    "        p_values_dictionary[each_key] = list_of_pvalues\n",
    "    return p_values_dictionary\n",
    "        "
   ]
  },
  {
   "cell_type": "code",
   "execution_count": 41,
   "metadata": {
    "collapsed": true
   },
   "outputs": [],
   "source": [
    "def getAccuracies(feature_selection_result):\n",
    "    accuracies_dictionary = {}\n",
    "    for each_key in feature_selection_result.keys():\n",
    "        list_of_accuracies = feature_selection_result[each_key]\n",
    "        accuracies = [a.mean() for a in list_of_accuracies]\n",
    "        accuracies_dictionary[each_key] = accuracies\n",
    "    return accuracies_dictionary"
   ]
  },
  {
   "cell_type": "code",
   "execution_count": null,
   "metadata": {
    "collapsed": true
   },
   "outputs": [],
   "source": [
    "def getSmallerTrainingSet(train_x, task, num_features):\n",
    "    \n",
    "    return smaller_train_x"
   ]
  },
  {
   "cell_type": "code",
   "execution_count": null,
   "metadata": {
    "collapsed": true
   },
   "outputs": [],
   "source": [
    "def doSVMwithPoly(train_x):\n",
    "    svm_poly_result = {}\n",
    "    \n",
    "    \n",
    "    \n",
    "    return svm_poly_result"
   ]
  },
  {
   "cell_type": "code",
   "execution_count": 42,
   "metadata": {
    "collapsed": false
   },
   "outputs": [],
   "source": [
    "datafile = \"summary-english-truth.txt\"\n",
    "\n",
    "train = pd.read_csv(datafile, header=0, delimiter=\"\\t\", quoting=1)\n",
    "\n",
    "clean_train_data = clean_all_text(train[\"text\"], train[\"text\"].size)\n",
    "\n",
    "vectorizer = TfidfVectorizer(analyzer = \"word\", tokenizer = None, preprocessor = None)\n",
    "train_x = vectorizer.fit_transform(clean_train_data)\n",
    "train_x = train_x.toarray()\n",
    "\n",
    "task = \"age\"\n",
    "train_y = train[task]\n",
    "# experiment 1.1 Feature Selection\n",
    "feature_selection_result = featureSelection(train_x, task, train_y)\n",
    "accuracies_dictionary = getAccuracies(feature_selection_result)\n",
    "p_values_dictionary = calculatePValue(feature_selection_result)\n",
    "\n",
    "# experiment 1.2 SVM Poly\n",
    "num_features_dictionary = {'age': 9000,\n",
    "                'gender': 7000\n",
    "               }\n",
    "num_features = num_features_dictionary[task]\n",
    "smaller_train_x = getSmallerTrainingSet(train_x, task, num_features)\n",
    "\n",
    "svm_poly_result = doSVMwithPoly(smaller_train_x)\n",
    "#    doSVMwithRBF()\n",
    "\n",
    "#    doRandomForest()\n",
    "#    doBoosting()"
   ]
  },
  {
   "cell_type": "code",
   "execution_count": 40,
   "metadata": {
    "collapsed": false
   },
   "outputs": [
    {
     "data": {
      "text/plain": [
       "0.6741456582633053"
      ]
     },
     "execution_count": 40,
     "metadata": {},
     "output_type": "execute_result"
    }
   ],
   "source": [
    "feature_selection_result['age-important-words-using-info-gain.txt'][0].mean()"
   ]
  },
  {
   "cell_type": "code",
   "execution_count": 34,
   "metadata": {
    "collapsed": false
   },
   "outputs": [
    {
     "data": {
      "text/plain": [
       "{'age-important-words-using-gain-ratio.txt': [1.0,\n",
       "  0.28991845394256976,\n",
       "  0.17361733442494354,\n",
       "  0.17361733442494354,\n",
       "  0.17361733442494354,\n",
       "  0.22647606604348625,\n",
       "  0.22647606604348625,\n",
       "  0.28991845394256976,\n",
       "  0.22647606604348625,\n",
       "  0.22647606604348625,\n",
       "  0.22647606604348625,\n",
       "  0.19876460637323512,\n",
       "  0.00015705228423075119],\n",
       " 'age-important-words-using-info-gain.txt': [1.0,\n",
       "  0.28991845394256976,\n",
       "  0.17361733442494354,\n",
       "  0.17361733442494354,\n",
       "  0.17361733442494354,\n",
       "  0.22647606604348625,\n",
       "  0.22647606604348625,\n",
       "  0.28991845394256976,\n",
       "  0.22647606604348625,\n",
       "  0.22647606604348625,\n",
       "  0.22647606604348625,\n",
       "  0.22647606604348625,\n",
       "  0.22647606604348625]}"
      ]
     },
     "execution_count": 34,
     "metadata": {},
     "output_type": "execute_result"
    }
   ],
   "source": [
    "p_values_dictionary"
   ]
  },
  {
   "cell_type": "code",
   "execution_count": 43,
   "metadata": {
    "collapsed": false
   },
   "outputs": [
    {
     "data": {
      "text/plain": [
       "{'age-important-words-using-gain-ratio.txt': [0.6741456582633053,\n",
       "  0.62809523809523815,\n",
       "  0.61476190476190484,\n",
       "  0.61476190476190484,\n",
       "  0.61476190476190484,\n",
       "  0.62064425770308129,\n",
       "  0.62064425770308129,\n",
       "  0.62731092436974789,\n",
       "  0.62064425770308129,\n",
       "  0.62064425770308129,\n",
       "  0.62064425770308129,\n",
       "  0.61350140056022417,\n",
       "  0.3963025210084033],\n",
       " 'age-important-words-using-info-gain.txt': [0.6741456582633053,\n",
       "  0.62809523809523815,\n",
       "  0.61476190476190484,\n",
       "  0.61476190476190484,\n",
       "  0.61476190476190484,\n",
       "  0.62064425770308129,\n",
       "  0.62064425770308129,\n",
       "  0.62731092436974789,\n",
       "  0.62064425770308129,\n",
       "  0.62064425770308129,\n",
       "  0.62064425770308129,\n",
       "  0.62064425770308129,\n",
       "  0.62064425770308129]}"
      ]
     },
     "execution_count": 43,
     "metadata": {},
     "output_type": "execute_result"
    }
   ],
   "source": [
    "accuracies_dictionary"
   ]
  },
  {
   "cell_type": "code",
   "execution_count": null,
   "metadata": {
    "collapsed": true
   },
   "outputs": [],
   "source": []
  }
 ],
 "metadata": {
  "kernelspec": {
   "display_name": "Python 2",
   "language": "python",
   "name": "python2"
  },
  "language_info": {
   "codemirror_mode": {
    "name": "ipython",
    "version": 2
   },
   "file_extension": ".py",
   "mimetype": "text/x-python",
   "name": "python",
   "nbconvert_exporter": "python",
   "pygments_lexer": "ipython2",
   "version": "2.7.6"
  }
 },
 "nbformat": 4,
 "nbformat_minor": 0
}
