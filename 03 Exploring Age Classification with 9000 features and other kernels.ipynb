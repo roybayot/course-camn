{
 "cells": [
  {
   "cell_type": "code",
   "execution_count": 1,
   "metadata": {
    "collapsed": true
   },
   "outputs": [],
   "source": [
    "import pandas as pd\n",
    "import numpy as np\n",
    "from sklearn.feature_extraction.text import TfidfVectorizer\n",
    "from bs4 import BeautifulSoup\n",
    "import sys\n",
    "import os\n",
    "\n",
    "import sklearn\n",
    "from sklearn import cross_validation\n",
    "from sklearn import svm\n",
    "from sklearn import metrics\n",
    "\n",
    "reload(sys)\n",
    "#sys.setdefaultencoding(\"ISO-8859-1\")\n",
    "sys.setdefaultencoding(\"UTF-8\")"
   ]
  },
  {
   "cell_type": "code",
   "execution_count": 2,
   "metadata": {
    "collapsed": true
   },
   "outputs": [],
   "source": [
    "def clean_text(raw_text):\n",
    "    review_text = BeautifulSoup(raw_text).get_text()\n",
    "    words = review_text.lower().split()\n",
    "    return(\" \".join(words))"
   ]
  },
  {
   "cell_type": "code",
   "execution_count": 3,
   "metadata": {
    "collapsed": false
   },
   "outputs": [],
   "source": [
    "languages = [\"english\"]\n",
    "datafiles = [\"summary-english-truth.txt\"]\n",
    "tasks = [\"age\"]\n",
    "for language, datafile in zip(languages, datafiles):\n",
    "    train = pd.read_csv(datafile, header=0, delimiter=\"\\t\", quoting=1)\n",
    "    num_text = train[\"text\"].size\n",
    "    clean_train_data = []\n",
    "    \n",
    "    for i in xrange( 0, num_text):\n",
    "        clean_train_data.append( clean_text( train[\"text\"][i] ) )\n",
    "\n",
    "        vectorizer = TfidfVectorizer(analyzer = \"word\", tokenizer = None, preprocessor = None)\n",
    "        train_x = vectorizer.fit_transform(clean_train_data)\n",
    "        train_x = train_x.toarray()\n",
    "    print \"shape: \", train_x.shape\n",
    "    rows, cols = train_x.shape"
   ]
  },
  {
   "cell_type": "code",
   "execution_count": 4,
   "metadata": {
    "collapsed": false
   },
   "outputs": [],
   "source": [
    "with open('age-important-words-using-info-gain.txt') as f:\n",
    "    alist = [line.rstrip() for line in f]\n",
    "all_indices_ranked = alist[0].split(',')\n",
    "all_indices_ranked = [int(x) for x in all_indices_ranked]\n",
    "all_indices_ranked = [x-1 for x in all_indices_ranked]"
   ]
  },
  {
   "cell_type": "code",
   "execution_count": 5,
   "metadata": {
    "collapsed": true
   },
   "outputs": [],
   "source": [
    "train = pd.read_csv(\"summary-english-truth.txt\", header=0, delimiter=\"\\t\", quoting=1)\n",
    "train_y = train['age']\n",
    "list_of_scores = []"
   ]
  },
  {
   "cell_type": "code",
   "execution_count": 6,
   "metadata": {
    "collapsed": false
   },
   "outputs": [
    {
     "data": {
      "text/plain": [
       "[0.0001, 0.001, 0.1, 1, 10, 1000, 10000]"
      ]
     },
     "execution_count": 6,
     "metadata": {},
     "output_type": "execute_result"
    }
   ],
   "source": [
    "degrees = [1,2,3]\n",
    "C = [10**-4, 10**-3, 10**-1, 1, 10**1, 10**3, 10**4]\n",
    "C"
   ]
  },
  {
   "cell_type": "code",
   "execution_count": 7,
   "metadata": {
    "collapsed": true
   },
   "outputs": [],
   "source": [
    "num_features = 9000\n",
    "xx = [all_indices_ranked[x] for x in range(0, num_features)]\n",
    "xx = tuple(xx)\n",
    "smaller_train_x = train_x[:, xx]"
   ]
  },
  {
   "cell_type": "code",
   "execution_count": 8,
   "metadata": {
    "collapsed": true
   },
   "outputs": [],
   "source": [
    "list_of_scores = []\n",
    "for degree in degrees:\n",
    "    for one_C in C:\n",
    "        clf = svm.SVC(kernel='poly', degree=degree, coef0=one_C, gamma=1)\n",
    "        scoring_function = 'accuracy'\n",
    "        scores = cross_validation.cross_val_score(clf, smaller_train_x, train_y, cv=10, scoring=scoring_function)\n",
    "        list_of_scores.append(scores)"
   ]
  },
  {
   "cell_type": "code",
   "execution_count": 9,
   "metadata": {
    "collapsed": false
   },
   "outputs": [
    {
     "data": {
      "text/plain": [
       "[0.63208333333333333,\n",
       " 0.63208333333333333,\n",
       " 0.63208333333333333,\n",
       " 0.63208333333333333,\n",
       " 0.63208333333333333,\n",
       " 0.63208333333333333,\n",
       " 0.63208333333333333,\n",
       " 0.61916666666666664,\n",
       " 0.61916666666666664,\n",
       " 0.62541666666666662,\n",
       " 0.71041666666666659,\n",
       " 0.80249999999999999,\n",
       " 0.80249999999999999,\n",
       " 0.80249999999999999,\n",
       " 0.51208333333333333,\n",
       " 0.51208333333333333,\n",
       " 0.59916666666666663,\n",
       " 0.75,\n",
       " 0.8091666666666667,\n",
       " 0.8091666666666667,\n",
       " 0.8091666666666667]"
      ]
     },
     "execution_count": 9,
     "metadata": {},
     "output_type": "execute_result"
    }
   ],
   "source": [
    "a = [x.mean() for x in list_of_scores]\n",
    "a"
   ]
  },
  {
   "cell_type": "code",
   "execution_count": 10,
   "metadata": {
    "collapsed": false
   },
   "outputs": [
    {
     "data": {
      "text/plain": [
       "0.63208333333333333"
      ]
     },
     "execution_count": 10,
     "metadata": {},
     "output_type": "execute_result"
    }
   ],
   "source": [
    "clf1 = svm.SVC(kernel='poly', degree=1, coef0=1, C=1, gamma=1)\n",
    "scores1 = cross_validation.cross_val_score(clf1, smaller_train_x, train_y, cv=10, scoring='accuracy')\n",
    "scores1.mean()"
   ]
  },
  {
   "cell_type": "code",
   "execution_count": 11,
   "metadata": {
    "collapsed": false
   },
   "outputs": [
    {
     "data": {
      "text/plain": [
       "0.63208333333333333"
      ]
     },
     "execution_count": 11,
     "metadata": {},
     "output_type": "execute_result"
    }
   ],
   "source": [
    "clf2 = svm.SVC(kernel='linear', C=1, coef0=1)\n",
    "scores2 = cross_validation.cross_val_score(clf2, smaller_train_x, train_y, cv=10, scoring='accuracy')\n",
    "scores2.mean()"
   ]
  },
  {
   "cell_type": "code",
   "execution_count": 12,
   "metadata": {
    "collapsed": false
   },
   "outputs": [],
   "source": [
    "from scipy import stats\n",
    "import pandas as pd\n",
    "p_value_matrix = np.zeros((len(list_of_scores), len(list_of_scores)))\n",
    "i = range(0, len(list_of_scores))\n",
    "#sig values\n",
    "for treatment1,x in zip(list_of_scores,i):\n",
    "    for treatment2,y in zip(list_of_scores,i):\n",
    "        z_stat, p_val = stats.ranksums(treatment1, treatment2)\n",
    "        p_value_matrix[x,y] = p_val"
   ]
  },
  {
   "cell_type": "code",
   "execution_count": 13,
   "metadata": {
    "collapsed": false
   },
   "outputs": [],
   "source": [
    "list_of_accuracies = [x.mean() for x in list_of_scores]\n",
    "df = pd.DataFrame(data = p_value_matrix, columns=list_of_accuracies)\n",
    "df.index = list_of_accuracies"
   ]
  },
  {
   "cell_type": "code",
   "execution_count": 14,
   "metadata": {
    "collapsed": false
   },
   "outputs": [],
   "source": [
    "df.to_csv(\"scrap.csv\", sep='\\t', encoding='utf-8')"
   ]
  },
  {
   "cell_type": "code",
   "execution_count": 15,
   "metadata": {
    "collapsed": true
   },
   "outputs": [],
   "source": [
    "null_disproved = df[df < 0.05]"
   ]
  },
  {
   "cell_type": "code",
   "execution_count": 16,
   "metadata": {
    "collapsed": true
   },
   "outputs": [],
   "source": [
    "null_disproved.to_csv(\"age-poly-scrap.csv\", sep='\\t', encoding='utf-8')"
   ]
  },
  {
   "cell_type": "code",
   "execution_count": 17,
   "metadata": {
    "collapsed": true
   },
   "outputs": [],
   "source": [
    "#rbf experiments"
   ]
  },
  {
   "cell_type": "code",
   "execution_count": 18,
   "metadata": {
    "collapsed": false
   },
   "outputs": [
    {
     "data": {
      "text/plain": [
       "[0.0001, 0.001, 0.01, 1, 100.0, 1000.0, 10000.0]"
      ]
     },
     "execution_count": 18,
     "metadata": {},
     "output_type": "execute_result"
    }
   ],
   "source": [
    "gammas = [1e-4, 1e-3, 1e-2, 1, 1e2, 1e3, 1e4]\n",
    "C =  [1e-4, 1e-3, 1e-2, 1, 1e2, 1e3, 1e4]\n",
    "C"
   ]
  },
  {
   "cell_type": "code",
   "execution_count": 19,
   "metadata": {
    "collapsed": false
   },
   "outputs": [],
   "source": [
    "list_of_scores = []\n",
    "for g in gammas:\n",
    "    for one_C in C:\n",
    "        clf = svm.SVC(kernel='rbf', gamma=g, C=one_C)\n",
    "        scoring_function = 'accuracy'\n",
    "        scores = cross_validation.cross_val_score(clf, smaller_train_x, train_y, cv=10, scoring=scoring_function)\n",
    "        list_of_scores.append(scores)"
   ]
  },
  {
   "cell_type": "code",
   "execution_count": 20,
   "metadata": {
    "collapsed": false
   },
   "outputs": [
    {
     "data": {
      "text/plain": [
       "[0.39500000000000002,\n",
       " 0.39500000000000002,\n",
       " 0.39500000000000002,\n",
       " 0.39500000000000002,\n",
       " 0.39500000000000002,\n",
       " 0.61874999999999991,\n",
       " 0.69708333333333328,\n",
       " 0.39500000000000002,\n",
       " 0.39500000000000002,\n",
       " 0.39500000000000002,\n",
       " 0.39500000000000002,\n",
       " 0.6120833333333332,\n",
       " 0.69708333333333328,\n",
       " 0.8091666666666667,\n",
       " 0.39500000000000002,\n",
       " 0.39500000000000002,\n",
       " 0.39500000000000002,\n",
       " 0.39500000000000002,\n",
       " 0.6908333333333333,\n",
       " 0.80249999999999999,\n",
       " 0.80249999999999999,\n",
       " 0.39500000000000002,\n",
       " 0.39500000000000002,\n",
       " 0.39500000000000002,\n",
       " 0.65166666666666662,\n",
       " 0.80249999999999999,\n",
       " 0.80249999999999999,\n",
       " 0.80249999999999999,\n",
       " 0.39500000000000002,\n",
       " 0.39500000000000002,\n",
       " 0.39500000000000002,\n",
       " 0.39500000000000002,\n",
       " 0.39500000000000002,\n",
       " 0.39500000000000002,\n",
       " 0.39500000000000002,\n",
       " 0.39500000000000002,\n",
       " 0.39500000000000002,\n",
       " 0.39500000000000002,\n",
       " 0.39500000000000002,\n",
       " 0.39500000000000002,\n",
       " 0.39500000000000002,\n",
       " 0.39500000000000002,\n",
       " 0.39500000000000002,\n",
       " 0.39500000000000002,\n",
       " 0.39500000000000002,\n",
       " 0.39500000000000002,\n",
       " 0.39500000000000002,\n",
       " 0.39500000000000002,\n",
       " 0.39500000000000002]"
      ]
     },
     "execution_count": 20,
     "metadata": {},
     "output_type": "execute_result"
    }
   ],
   "source": [
    "list_of_accuracies = [x.mean() for x in list_of_scores]\n",
    "list_of_accuracies"
   ]
  },
  {
   "cell_type": "code",
   "execution_count": 21,
   "metadata": {
    "collapsed": false
   },
   "outputs": [],
   "source": [
    "p_value_matrix = np.zeros((len(list_of_scores), len(list_of_scores)))\n",
    "i = range(0, len(list_of_scores))\n",
    "#sig values\n",
    "for treatment1,x in zip(list_of_scores,i):\n",
    "    for treatment2,y in zip(list_of_scores,i):\n",
    "        z_stat, p_val = stats.ranksums(treatment1, treatment2)\n",
    "        p_value_matrix[x,y] = p_val"
   ]
  },
  {
   "cell_type": "code",
   "execution_count": 22,
   "metadata": {
    "collapsed": true
   },
   "outputs": [],
   "source": [
    "df = pd.DataFrame(data = p_value_matrix, columns=list_of_accuracies)\n",
    "df.index = list_of_accuracies"
   ]
  },
  {
   "cell_type": "code",
   "execution_count": 23,
   "metadata": {
    "collapsed": true
   },
   "outputs": [],
   "source": [
    "null_disproved = df[df < 0.05]"
   ]
  },
  {
   "cell_type": "code",
   "execution_count": 24,
   "metadata": {
    "collapsed": true
   },
   "outputs": [],
   "source": [
    "null_disproved.to_csv(\"age-rbf-scrap.csv\", sep='\\t', encoding='utf-8')"
   ]
  },
  {
   "cell_type": "code",
   "execution_count": 25,
   "metadata": {
    "collapsed": false
   },
   "outputs": [
    {
     "data": {
      "text/plain": [
       "[0.0001, 0.001, 0.01, 1, 100.0, 1000.0, 10000.0]"
      ]
     },
     "execution_count": 25,
     "metadata": {},
     "output_type": "execute_result"
    }
   ],
   "source": [
    "gammas"
   ]
  },
  {
   "cell_type": "code",
   "execution_count": null,
   "metadata": {
    "collapsed": true
   },
   "outputs": [],
   "source": []
  }
 ],
 "metadata": {
  "kernelspec": {
   "display_name": "Python 2",
   "language": "python",
   "name": "python2"
  },
  "language_info": {
   "codemirror_mode": {
    "name": "ipython",
    "version": 2
   },
   "file_extension": ".py",
   "mimetype": "text/x-python",
   "name": "python",
   "nbconvert_exporter": "python",
   "pygments_lexer": "ipython2",
   "version": "2.7.6"
  }
 },
 "nbformat": 4,
 "nbformat_minor": 0
}
