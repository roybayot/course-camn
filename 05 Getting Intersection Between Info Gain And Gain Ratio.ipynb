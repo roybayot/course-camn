{
 "cells": [
  {
   "cell_type": "code",
   "execution_count": 1,
   "metadata": {
    "collapsed": true
   },
   "outputs": [],
   "source": [
    "import pandas as pd\n",
    "import numpy as np\n",
    "from sklearn.feature_extraction.text import TfidfVectorizer\n",
    "from bs4 import BeautifulSoup\n",
    "import sys\n",
    "import os\n",
    "\n",
    "import sklearn\n",
    "from sklearn import cross_validation\n",
    "from sklearn import svm\n",
    "from sklearn import metrics\n",
    "\n",
    "reload(sys)\n",
    "#sys.setdefaultencoding(\"ISO-8859-1\")\n",
    "sys.setdefaultencoding(\"UTF-8\")"
   ]
  },
  {
   "cell_type": "code",
   "execution_count": 2,
   "metadata": {
    "collapsed": true
   },
   "outputs": [],
   "source": [
    "def clean_text(raw_text):\n",
    "    review_text = BeautifulSoup(raw_text).get_text()\n",
    "    words = review_text.lower().split()\n",
    "    return(\" \".join(words))"
   ]
  },
  {
   "cell_type": "code",
   "execution_count": 50,
   "metadata": {
    "collapsed": true
   },
   "outputs": [],
   "source": [
    "number_of_features = 200"
   ]
  },
  {
   "cell_type": "code",
   "execution_count": 51,
   "metadata": {
    "collapsed": true
   },
   "outputs": [],
   "source": [
    "languages = [\"english\"]\n",
    "datafiles = [\"summary-english-truth.txt\"]\n",
    "tasks = [\"age\"]\n",
    "for language, datafile in zip(languages, datafiles):\n",
    "    train = pd.read_csv(datafile, header=0, delimiter=\"\\t\", quoting=1)\n",
    "    num_text = train[\"text\"].size\n",
    "    clean_train_data = []\n",
    "    \n",
    "    for i in xrange( 0, num_text):\n",
    "        clean_train_data.append( clean_text( train[\"text\"][i] ) )\n",
    "        vectorizer = TfidfVectorizer(analyzer = \"word\", tokenizer = None, preprocessor = None)\n",
    "        \n",
    "        train_x = vectorizer.fit_transform(clean_train_data)\n",
    "        train_x = train_x.toarray()\n",
    "    print \"shape: \", train_x.shape\n",
    "    rows, cols = train_x.shape"
   ]
  },
  {
   "cell_type": "code",
   "execution_count": 53,
   "metadata": {
    "collapsed": false
   },
   "outputs": [],
   "source": [
    "with open('age-important-words-using-info-gain.txt') as f:\n",
    "    alist = [line.rstrip() for line in f]\n",
    "all_indices_ranked = alist[0].split(',')\n",
    "all_indices_ranked = [int(x) for x in all_indices_ranked]\n",
    "all_indices_ranked = [x-1 for x in all_indices_ranked]"
   ]
  },
  {
   "cell_type": "code",
   "execution_count": 54,
   "metadata": {
    "collapsed": false
   },
   "outputs": [],
   "source": [
    "all_feature_names = vectorizer.get_feature_names()"
   ]
  },
  {
   "cell_type": "code",
   "execution_count": 55,
   "metadata": {
    "collapsed": false
   },
   "outputs": [],
   "source": [
    "top_100_features_info_gain = [all_feature_names[all_indices_ranked[i]] for i in range(0,number_of_features)]"
   ]
  },
  {
   "cell_type": "code",
   "execution_count": 56,
   "metadata": {
    "collapsed": false
   },
   "outputs": [],
   "source": [
    "set_top_100_features_info_gain =  set(top_100_features_info_gain)"
   ]
  },
  {
   "cell_type": "code",
   "execution_count": 57,
   "metadata": {
    "collapsed": false
   },
   "outputs": [],
   "source": [
    "#get the one for gain ratio"
   ]
  },
  {
   "cell_type": "code",
   "execution_count": 58,
   "metadata": {
    "collapsed": true
   },
   "outputs": [],
   "source": [
    "with open('age-important-words-using-gain-ratio.txt') as f:\n",
    "    alist = [line.rstrip() for line in f]\n",
    "all_indices_ranked = alist[0].split(',')\n",
    "all_indices_ranked = [int(x) for x in all_indices_ranked]\n",
    "all_indices_ranked = [x-1 for x in all_indices_ranked]"
   ]
  },
  {
   "cell_type": "code",
   "execution_count": 59,
   "metadata": {
    "collapsed": false
   },
   "outputs": [],
   "source": [
    "top_100_features_gain_ratio = [all_feature_names[all_indices_ranked[i]] for i in range(0,number_of_features)]"
   ]
  },
  {
   "cell_type": "code",
   "execution_count": 60,
   "metadata": {
    "collapsed": false
   },
   "outputs": [],
   "source": [
    "set_top_100_features_gain_ratio =  set(top_100_features_gain_ratio)"
   ]
  },
  {
   "cell_type": "code",
   "execution_count": 61,
   "metadata": {
    "collapsed": true
   },
   "outputs": [],
   "source": [
    "#getting intersection between two"
   ]
  },
  {
   "cell_type": "code",
   "execution_count": 63,
   "metadata": {
    "collapsed": false
   },
   "outputs": [
    {
     "data": {
      "text/plain": [
       "{u'16',\n",
       " u'academia',\n",
       " u'af',\n",
       " u'age',\n",
       " u'ain',\n",
       " u'airs',\n",
       " u'algorithm',\n",
       " u'analyze',\n",
       " u'anymore',\n",
       " u'aren',\n",
       " u'ass',\n",
       " u'atkinson',\n",
       " u'awake',\n",
       " u'back',\n",
       " u'bed',\n",
       " u'ben',\n",
       " u'beta',\n",
       " u'biological',\n",
       " u'bitches',\n",
       " u'bored',\n",
       " u'boy',\n",
       " u'british',\n",
       " u'buen',\n",
       " u'cant',\n",
       " u'cause',\n",
       " u'ceo',\n",
       " u'chattanoogastrong',\n",
       " u'chill',\n",
       " u'classes',\n",
       " u'co',\n",
       " u'coach',\n",
       " u'code',\n",
       " u'coffee',\n",
       " u'congrats',\n",
       " u'cute',\n",
       " u'data',\n",
       " u'die',\n",
       " u'dumb',\n",
       " u'eight',\n",
       " u'employees',\n",
       " u'engine',\n",
       " u'et',\n",
       " u'everything',\n",
       " u'exciting',\n",
       " u'exercise',\n",
       " u'explains',\n",
       " u'extraction',\n",
       " u'feelings',\n",
       " u'feliz',\n",
       " u'fuck',\n",
       " u'girls',\n",
       " u'goburros',\n",
       " u'gonna',\n",
       " u'goodmorning',\n",
       " u'gotta',\n",
       " u'hadoop',\n",
       " u'haha',\n",
       " u'hands',\n",
       " u'her',\n",
       " u'hhs',\n",
       " u'http',\n",
       " u'ideas',\n",
       " u'idk',\n",
       " u'ik',\n",
       " u'ilu',\n",
       " u'im',\n",
       " u'ima',\n",
       " u'increases',\n",
       " u'itworks',\n",
       " u'jack',\n",
       " u'je',\n",
       " u'kanye',\n",
       " u'know',\n",
       " u'll',\n",
       " u'louis',\n",
       " u'me',\n",
       " u'mention',\n",
       " u'mentions',\n",
       " u'methods',\n",
       " u'mobile',\n",
       " u'mocs',\n",
       " u'my',\n",
       " u'nah',\n",
       " u'netflix',\n",
       " u'neuroscience',\n",
       " u'new',\n",
       " u'news',\n",
       " u'nigga',\n",
       " u'niggas',\n",
       " u'nine',\n",
       " u'np',\n",
       " u'number',\n",
       " u'of',\n",
       " u'okay',\n",
       " u'op',\n",
       " u'others',\n",
       " u'papaw',\n",
       " u'pray',\n",
       " u'privacy',\n",
       " u'proceedings',\n",
       " u'processing',\n",
       " u'project',\n",
       " u'published',\n",
       " u'research',\n",
       " u'school',\n",
       " u'seriously',\n",
       " u'sharing',\n",
       " u'she',\n",
       " u'shit',\n",
       " u'sleep',\n",
       " u'snapchat',\n",
       " u'so',\n",
       " u'song',\n",
       " u'soundtrack',\n",
       " u'students',\n",
       " u'sucks',\n",
       " u'television',\n",
       " u'tf',\n",
       " u'thats',\n",
       " u'thousands',\n",
       " u'told',\n",
       " u'trek',\n",
       " u'tryna',\n",
       " u'ur',\n",
       " u'utc',\n",
       " u'wake',\n",
       " u'wanna',\n",
       " u'want',\n",
       " u'was',\n",
       " u'web',\n",
       " u'when',\n",
       " u'won',\n",
       " u'wrestling',\n",
       " u'wtf',\n",
       " u'xd',\n",
       " u'yesterday',\n",
       " u'you'}"
      ]
     },
     "execution_count": 63,
     "metadata": {},
     "output_type": "execute_result"
    }
   ],
   "source": [
    "intersection_of_two = set_top_100_features_gain_ratio.intersection(set_top_100_features_info_gain)\n",
    "intersection_of_two"
   ]
  },
  {
   "cell_type": "code",
   "execution_count": 64,
   "metadata": {
    "collapsed": false
   },
   "outputs": [],
   "source": [
    "union_of_two = set_top_100_features_gain_ratio.union(set_top_100_features_info_gain)"
   ]
  },
  {
   "cell_type": "code",
   "execution_count": 65,
   "metadata": {
    "collapsed": false
   },
   "outputs": [],
   "source": [
    "# LOOKING AT GENDER"
   ]
  },
  {
   "cell_type": "code",
   "execution_count": 66,
   "metadata": {
    "collapsed": true
   },
   "outputs": [],
   "source": [
    "with open('gender-important-words-info-gain.txt') as f:\n",
    "    alist = [line.rstrip() for line in f]\n",
    "all_indices_ranked = alist[0].split(',')\n",
    "all_indices_ranked = [int(x) for x in all_indices_ranked]\n",
    "all_indices_ranked = [x-1 for x in all_indices_ranked]"
   ]
  },
  {
   "cell_type": "code",
   "execution_count": 67,
   "metadata": {
    "collapsed": true
   },
   "outputs": [],
   "source": [
    "top_100_features_info_gain_gender = [all_feature_names[all_indices_ranked[i]] for i in range(0,number_of_features)]"
   ]
  },
  {
   "cell_type": "code",
   "execution_count": 68,
   "metadata": {
    "collapsed": true
   },
   "outputs": [],
   "source": [
    "with open('gender-important-words-gain-ratio.txt') as f:\n",
    "    alist = [line.rstrip() for line in f]\n",
    "all_indices_ranked = alist[0].split(',')\n",
    "all_indices_ranked = [int(x) for x in all_indices_ranked]\n",
    "all_indices_ranked = [x-1 for x in all_indices_ranked]"
   ]
  },
  {
   "cell_type": "code",
   "execution_count": 69,
   "metadata": {
    "collapsed": true
   },
   "outputs": [],
   "source": [
    "top_100_features_gain_ratio_gender = [all_feature_names[all_indices_ranked[i]] for i in range(0,number_of_features)]"
   ]
  },
  {
   "cell_type": "code",
   "execution_count": 70,
   "metadata": {
    "collapsed": true
   },
   "outputs": [],
   "source": [
    "set_top_100_features_gain_ratio_gender = set(top_100_features_gain_ratio_gender)\n",
    "set_top_100_features_info_gain_gender = set(top_100_features_info_gain_gender)"
   ]
  },
  {
   "cell_type": "code",
   "execution_count": 72,
   "metadata": {
    "collapsed": false
   },
   "outputs": [
    {
     "data": {
      "text/plain": [
       "{u'25',\n",
       " u'50',\n",
       " u'accepted',\n",
       " u'access',\n",
       " u'add',\n",
       " u'adorable',\n",
       " u'age',\n",
       " u'ancient',\n",
       " u'android',\n",
       " u'aren',\n",
       " u'babies',\n",
       " u'billion',\n",
       " u'bird',\n",
       " u'blame',\n",
       " u'brilliant',\n",
       " u'bruh',\n",
       " u'characters',\n",
       " u'chasing',\n",
       " u'colleagues',\n",
       " u'corpus',\n",
       " u'created',\n",
       " u'cuddle',\n",
       " u'data',\n",
       " u'di',\n",
       " u'episode',\n",
       " u'eu',\n",
       " u'excited',\n",
       " u'favorite',\n",
       " u'fear',\n",
       " u'feared',\n",
       " u'feat',\n",
       " u'feature',\n",
       " u'featured',\n",
       " u'features',\n",
       " u'featuring',\n",
       " u'feaxtrex',\n",
       " u'feb',\n",
       " u'febmofro',\n",
       " u'february',\n",
       " u'feelies',\n",
       " u'feelin',\n",
       " u'feeling',\n",
       " u'feelings',\n",
       " u'feels',\n",
       " u'feest',\n",
       " u'feestje',\n",
       " u'feet',\n",
       " u'feicers',\n",
       " u'feina',\n",
       " u'feinstein',\n",
       " u'feisty',\n",
       " u'fel0zpdwor',\n",
       " u'felfu78bcl',\n",
       " u'felice',\n",
       " u'felicidades',\n",
       " u'felicissimo',\n",
       " u'felicity',\n",
       " u'felix',\n",
       " u'feliz',\n",
       " u'feli\\xe7',\n",
       " u'fell',\n",
       " u'fellaini',\n",
       " u'fellow',\n",
       " u'fellows',\n",
       " u'fellowship',\n",
       " u'felt',\n",
       " u'fezu7nyn',\n",
       " u'fg1rwa65',\n",
       " u'fg_mental',\n",
       " u'fgateccquk',\n",
       " u'fgcqlkxaaa',\n",
       " u'fgd',\n",
       " u'fgdmo',\n",
       " u'fgfdfffffghh',\n",
       " u'fggmneh8nw',\n",
       " u'fghpz9kehq',\n",
       " u'fgpgv5aow0e',\n",
       " u'fgt2yjhf6g',\n",
       " u'fgzmwsdsoi',\n",
       " u'fh22uccqmn',\n",
       " u'fhdkel3t',\n",
       " u'fhgywuarxe',\n",
       " u'fhh3vhsvjs',\n",
       " u'fhpxqx5q',\n",
       " u'fhrvpzhzqd',\n",
       " u'fhswrestling',\n",
       " u'fhx3sjnnty',\n",
       " u'fhxywrfm',\n",
       " u'fi',\n",
       " u'fia2oa7i3g',\n",
       " u'fiaschi',\n",
       " u'fiasco',\n",
       " u'fick',\n",
       " u'fiction',\n",
       " u'fiddling',\n",
       " u'fidget',\n",
       " u'fidkg6t8',\n",
       " u'fido',\n",
       " u'field',\n",
       " u'fields',\n",
       " u'fiere',\n",
       " u'fiesta',\n",
       " u'fiestas',\n",
       " u'fifa',\n",
       " u'fifa2014',\n",
       " u'fifaworldcup',\n",
       " u'fifth',\n",
       " u'fifths',\n",
       " u'fifty',\n",
       " u'fig',\n",
       " u'figata',\n",
       " u'figatetexane',\n",
       " u'fight',\n",
       " u'fightclub',\n",
       " u'fighter',\n",
       " u'fighters',\n",
       " u'fighterssssssss',\n",
       " u'fighting',\n",
       " u'fights',\n",
       " u'figueroa',\n",
       " u'figurative',\n",
       " u'figure',\n",
       " u'figured',\n",
       " u'figures',\n",
       " u'figuring',\n",
       " u'fiie83b0rt',\n",
       " u'fiinee',\n",
       " u'fiji',\n",
       " u'fijwwbkyf1',\n",
       " u'fil',\n",
       " u'file',\n",
       " u'funding',\n",
       " u'funny',\n",
       " u'gay',\n",
       " u'genius',\n",
       " u'give',\n",
       " u'goodbye',\n",
       " u'hour',\n",
       " u'initiative',\n",
       " u'introduction',\n",
       " u'itunes',\n",
       " u'java',\n",
       " u'laundry',\n",
       " u'logo',\n",
       " u'lonely',\n",
       " u'love',\n",
       " u'loved',\n",
       " u'ma',\n",
       " u'main',\n",
       " u'manchester',\n",
       " u'meaning',\n",
       " u'mention',\n",
       " u'missed',\n",
       " u'mucho',\n",
       " u'nah',\n",
       " u'nature',\n",
       " u'needed',\n",
       " u'non',\n",
       " u'omg',\n",
       " u'online',\n",
       " u'original',\n",
       " u'os',\n",
       " u'phones',\n",
       " u'por',\n",
       " u'posted',\n",
       " u'practice',\n",
       " u'princess',\n",
       " u'regular',\n",
       " u'rn',\n",
       " u'romantic',\n",
       " u'roommate',\n",
       " u'run',\n",
       " u'semantic',\n",
       " u'sentiment',\n",
       " u'shut',\n",
       " u'soo',\n",
       " u'sounds',\n",
       " u'startup',\n",
       " u'step',\n",
       " u'sweet',\n",
       " u'teacher',\n",
       " u'theory',\n",
       " u'today',\n",
       " u'tumblr',\n",
       " u'turkey',\n",
       " u'union',\n",
       " u'until',\n",
       " u'vacation',\n",
       " u'violence',\n",
       " u'warm',\n",
       " u'week',\n",
       " u'weekend',\n",
       " u'wide',\n",
       " u'windows',\n",
       " u'winner',\n",
       " u'wrote',\n",
       " u'xbox',\n",
       " u'yay',\n",
       " u'yourself',\n",
       " u'\\u017ee'}"
      ]
     },
     "execution_count": 72,
     "metadata": {},
     "output_type": "execute_result"
    }
   ],
   "source": [
    "intersection_between_two_gender = set_top_100_features_gain_ratio_gender.intersection(top_100_features_info_gain_gender)\n",
    "intersection_between_two_gender"
   ]
  },
  {
   "cell_type": "code",
   "execution_count": null,
   "metadata": {
    "collapsed": true
   },
   "outputs": [],
   "source": []
  }
 ],
 "metadata": {
  "kernelspec": {
   "display_name": "Python 2",
   "language": "python",
   "name": "python2"
  },
  "language_info": {
   "codemirror_mode": {
    "name": "ipython",
    "version": 2
   },
   "file_extension": ".py",
   "mimetype": "text/x-python",
   "name": "python",
   "nbconvert_exporter": "python",
   "pygments_lexer": "ipython2",
   "version": "2.7.6"
  }
 },
 "nbformat": 4,
 "nbformat_minor": 0
}
