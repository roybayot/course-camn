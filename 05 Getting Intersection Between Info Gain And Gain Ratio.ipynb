{
 "cells": [
  {
   "cell_type": "code",
   "execution_count": 2,
   "metadata": {
    "collapsed": true
   },
   "outputs": [],
   "source": [
    "import pandas as pd\n",
    "import numpy as np\n",
    "from sklearn.feature_extraction.text import TfidfVectorizer\n",
    "from bs4 import BeautifulSoup\n",
    "import sys\n",
    "import os\n",
    "\n",
    "import sklearn\n",
    "from sklearn import cross_validation\n",
    "from sklearn import svm\n",
    "from sklearn import metrics\n",
    "\n",
    "reload(sys)\n",
    "#sys.setdefaultencoding(\"ISO-8859-1\")\n",
    "sys.setdefaultencoding(\"UTF-8\")"
   ]
  },
  {
   "cell_type": "code",
   "execution_count": 3,
   "metadata": {
    "collapsed": true
   },
   "outputs": [],
   "source": [
    "def clean_text(raw_text):\n",
    "    review_text = BeautifulSoup(raw_text).get_text()\n",
    "    words = review_text.lower().split()\n",
    "    return(\" \".join(words))"
   ]
  },
  {
   "cell_type": "code",
   "execution_count": 4,
   "metadata": {
    "collapsed": true
   },
   "outputs": [],
   "source": [
    "number_of_features = 200"
   ]
  },
  {
   "cell_type": "code",
   "execution_count": 5,
   "metadata": {
    "collapsed": true
   },
   "outputs": [],
   "source": [
    "languages = [\"english\"]\n",
    "datafiles = [\"summary-english-truth.txt\"]\n",
    "tasks = [\"age\"]\n",
    "for language, datafile in zip(languages, datafiles):\n",
    "    train = pd.read_csv(datafile, header=0, delimiter=\"\\t\", quoting=1)\n",
    "    num_text = train[\"text\"].size\n",
    "    clean_train_data = []\n",
    "    \n",
    "    for i in xrange( 0, num_text):\n",
    "        clean_train_data.append( clean_text( train[\"text\"][i] ) )\n",
    "    vectorizer = TfidfVectorizer(analyzer = \"word\", tokenizer = None, preprocessor = None)\n",
    "        \n",
    "    train_x = vectorizer.fit_transform(clean_train_data)\n",
    "    train_x = train_x.toarray()\n",
    "    print \"shape: \", train_x.shape\n",
    "    rows, cols = train_x.shape"
   ]
  },
  {
   "cell_type": "code",
   "execution_count": 6,
   "metadata": {
    "collapsed": false
   },
   "outputs": [],
   "source": [
    "with open('age-important-words-using-info-gain.txt') as f:\n",
    "    alist = [line.rstrip() for line in f]\n",
    "all_indices_ranked = alist[0].split(',')\n",
    "all_indices_ranked = [int(x) for x in all_indices_ranked]\n",
    "all_indices_ranked = [x-1 for x in all_indices_ranked]"
   ]
  },
  {
   "cell_type": "code",
   "execution_count": 7,
   "metadata": {
    "collapsed": false
   },
   "outputs": [],
   "source": [
    "all_feature_names = vectorizer.get_feature_names()"
   ]
  },
  {
   "cell_type": "code",
   "execution_count": 8,
   "metadata": {
    "collapsed": false
   },
   "outputs": [],
   "source": [
    "top_100_features_info_gain = [all_feature_names[all_indices_ranked[i]] for i in range(0,number_of_features)]"
   ]
  },
  {
   "cell_type": "code",
   "execution_count": 9,
   "metadata": {
    "collapsed": false
   },
   "outputs": [],
   "source": [
    "set_top_100_features_info_gain =  set(top_100_features_info_gain)"
   ]
  },
  {
   "cell_type": "code",
   "execution_count": 10,
   "metadata": {
    "collapsed": false
   },
   "outputs": [],
   "source": [
    "#get the one for gain ratio"
   ]
  },
  {
   "cell_type": "code",
   "execution_count": 11,
   "metadata": {
    "collapsed": true
   },
   "outputs": [],
   "source": [
    "with open('age-important-words-using-gain-ratio.txt') as f:\n",
    "    alist = [line.rstrip() for line in f]\n",
    "all_indices_ranked = alist[0].split(',')\n",
    "all_indices_ranked = [int(x) for x in all_indices_ranked]\n",
    "all_indices_ranked = [x-1 for x in all_indices_ranked]"
   ]
  },
  {
   "cell_type": "code",
   "execution_count": 12,
   "metadata": {
    "collapsed": false
   },
   "outputs": [],
   "source": [
    "top_100_features_gain_ratio = [all_feature_names[all_indices_ranked[i]] for i in range(0,number_of_features)]"
   ]
  },
  {
   "cell_type": "code",
   "execution_count": 13,
   "metadata": {
    "collapsed": false
   },
   "outputs": [],
   "source": [
    "set_top_100_features_gain_ratio =  set(top_100_features_gain_ratio)"
   ]
  },
  {
   "cell_type": "code",
   "execution_count": 14,
   "metadata": {
    "collapsed": true
   },
   "outputs": [],
   "source": [
    "#getting intersection between two"
   ]
  },
  {
   "cell_type": "code",
   "execution_count": 15,
   "metadata": {
    "collapsed": false
   },
   "outputs": [],
   "source": [
    "intersection_of_two = set_top_100_features_gain_ratio.intersection(set_top_100_features_info_gain)"
   ]
  },
  {
   "cell_type": "code",
   "execution_count": 16,
   "metadata": {
    "collapsed": false
   },
   "outputs": [],
   "source": [
    "union_of_two = set_top_100_features_gain_ratio.union(set_top_100_features_info_gain)"
   ]
  },
  {
   "cell_type": "code",
   "execution_count": 17,
   "metadata": {
    "collapsed": false
   },
   "outputs": [],
   "source": [
    "# LOOKING AT GENDER"
   ]
  },
  {
   "cell_type": "code",
   "execution_count": 18,
   "metadata": {
    "collapsed": true
   },
   "outputs": [],
   "source": [
    "with open('gender-important-words-info-gain.txt') as f:\n",
    "    alist = [line.rstrip() for line in f]\n",
    "all_indices_ranked = alist[0].split(',')\n",
    "all_indices_ranked = [int(x) for x in all_indices_ranked]\n",
    "all_indices_ranked = [x-1 for x in all_indices_ranked]"
   ]
  },
  {
   "cell_type": "code",
   "execution_count": 19,
   "metadata": {
    "collapsed": true
   },
   "outputs": [],
   "source": [
    "top_100_features_info_gain_gender = [all_feature_names[all_indices_ranked[i]] for i in range(0,number_of_features)]"
   ]
  },
  {
   "cell_type": "code",
   "execution_count": 20,
   "metadata": {
    "collapsed": true
   },
   "outputs": [],
   "source": [
    "with open('gender-important-words-gain-ratio.txt') as f:\n",
    "    alist = [line.rstrip() for line in f]\n",
    "all_indices_ranked = alist[0].split(',')\n",
    "all_indices_ranked = [int(x) for x in all_indices_ranked]\n",
    "all_indices_ranked = [x-1 for x in all_indices_ranked]"
   ]
  },
  {
   "cell_type": "code",
   "execution_count": 21,
   "metadata": {
    "collapsed": true
   },
   "outputs": [],
   "source": [
    "top_100_features_gain_ratio_gender = [all_feature_names[all_indices_ranked[i]] for i in range(0,number_of_features)]"
   ]
  },
  {
   "cell_type": "code",
   "execution_count": 22,
   "metadata": {
    "collapsed": true
   },
   "outputs": [],
   "source": [
    "set_top_100_features_gain_ratio_gender = set(top_100_features_gain_ratio_gender)\n",
    "set_top_100_features_info_gain_gender = set(top_100_features_info_gain_gender)"
   ]
  },
  {
   "cell_type": "code",
   "execution_count": 23,
   "metadata": {
    "collapsed": false
   },
   "outputs": [],
   "source": [
    "intersection_between_two_gender = set_top_100_features_gain_ratio_gender.intersection(top_100_features_info_gain_gender)"
   ]
  },
  {
   "cell_type": "code",
   "execution_count": null,
   "metadata": {
    "collapsed": true
   },
   "outputs": [],
   "source": []
  }
 ],
 "metadata": {
  "kernelspec": {
   "display_name": "Python 2",
   "language": "python",
   "name": "python2"
  },
  "language_info": {
   "codemirror_mode": {
    "name": "ipython",
    "version": 2
   },
   "file_extension": ".py",
   "mimetype": "text/x-python",
   "name": "python",
   "nbconvert_exporter": "python",
   "pygments_lexer": "ipython2",
   "version": "2.7.6"
  }
 },
 "nbformat": 4,
 "nbformat_minor": 0
}
