{
 "cells": [
  {
   "cell_type": "code",
   "execution_count": 1,
   "metadata": {
    "collapsed": true
   },
   "outputs": [],
   "source": [
    "import pandas as pd\n",
    "import numpy as np\n",
    "from sklearn.feature_extraction.text import TfidfVectorizer\n",
    "from bs4 import BeautifulSoup\n",
    "import sys\n",
    "import os\n",
    "\n",
    "import sklearn\n",
    "from sklearn import cross_validation\n",
    "from sklearn import svm\n",
    "from sklearn import metrics\n",
    "\n",
    "reload(sys)\n",
    "#sys.setdefaultencoding(\"ISO-8859-1\")\n",
    "sys.setdefaultencoding(\"UTF-8\")"
   ]
  },
  {
   "cell_type": "code",
   "execution_count": 2,
   "metadata": {
    "collapsed": true
   },
   "outputs": [],
   "source": [
    "datafile = \"summary-truth.txt\""
   ]
  },
  {
   "cell_type": "code",
   "execution_count": 3,
   "metadata": {
    "collapsed": true
   },
   "outputs": [],
   "source": [
    "train = pd.read_csv(datafile, header=0, delimiter=\"\\t\", quoting=1)"
   ]
  },
  {
   "cell_type": "code",
   "execution_count": 21,
   "metadata": {
    "collapsed": false
   },
   "outputs": [
    {
     "data": {
      "text/plain": [
       "[32, 100, 93.19736842105263, 16.817534502982358, 100.0]"
      ]
     },
     "execution_count": 21,
     "metadata": {},
     "output_type": "execute_result"
    }
   ],
   "source": [
    "all_num_tweets_per_user = train[\"num_tweets_per_user\"]\n",
    "a = [min(all_num_tweets_per_user), max(all_num_tweets_per_user), \n",
    "     np.average(all_num_tweets_per_user), np.std(all_num_tweets_per_user),\n",
    "     np.median(all_num_tweets_per_user)]   \n",
    "a"
   ]
  },
  {
   "cell_type": "code",
   "execution_count": 25,
   "metadata": {
    "collapsed": false
   },
   "outputs": [
    {
     "data": {
      "text/plain": [
       "[1979, 12485, 7445.3026315789475, 2389.6088951064817, 7438.5]"
      ]
     },
     "execution_count": 25,
     "metadata": {},
     "output_type": "execute_result"
    }
   ],
   "source": [
    "all_combined_tweet_length_per_user = train[\"total_length_of_tweet\"]\n",
    "a = [min(all_combined_tweet_length_per_user), max(all_combined_tweet_length_per_user), \n",
    "     np.average(all_combined_tweet_length_per_user), np.std(all_combined_tweet_length_per_user),\n",
    "     np.median(all_combined_tweet_length_per_user)] \n",
    "a"
   ]
  },
  {
   "cell_type": "code",
   "execution_count": 24,
   "metadata": {
    "collapsed": false
   },
   "outputs": [
    {
     "data": {
      "text/plain": [
       "[29.460000000000001,\n",
       " 124.84999999999999,\n",
       " 79.610329557101693,\n",
       " 20.288760953997052,\n",
       " 80.349999999999994]"
      ]
     },
     "execution_count": 24,
     "metadata": {},
     "output_type": "execute_result"
    }
   ],
   "source": [
    "all_average_tweet_length_per_user = train[\"avg_tweet_length_per_user\"]\n",
    "a = [min(all_average_tweet_length_per_user), max(all_average_tweet_length_per_user), \n",
    "     np.average(all_average_tweet_length_per_user), np.std(all_average_tweet_length_per_user),\n",
    "     np.median(all_average_tweet_length_per_user)] \n",
    "a"
   ]
  },
  {
   "cell_type": "code",
   "execution_count": null,
   "metadata": {
    "collapsed": true
   },
   "outputs": [],
   "source": []
  }
 ],
 "metadata": {
  "kernelspec": {
   "display_name": "Python 2",
   "language": "python",
   "name": "python2"
  },
  "language_info": {
   "codemirror_mode": {
    "name": "ipython",
    "version": 2
   },
   "file_extension": ".py",
   "mimetype": "text/x-python",
   "name": "python",
   "nbconvert_exporter": "python",
   "pygments_lexer": "ipython2",
   "version": "2.7.6"
  }
 },
 "nbformat": 4,
 "nbformat_minor": 0
}
