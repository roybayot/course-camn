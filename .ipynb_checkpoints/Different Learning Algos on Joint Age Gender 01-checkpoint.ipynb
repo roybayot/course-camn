{
 "cells": [
  {
   "cell_type": "code",
   "execution_count": 1,
   "metadata": {
    "collapsed": true
   },
   "outputs": [],
   "source": [
    "import pandas as pd\n",
    "import numpy as np\n",
    "from sklearn.feature_extraction.text import TfidfVectorizer\n",
    "from bs4 import BeautifulSoup\n",
    "import sys\n",
    "import os\n",
    "\n",
    "import sklearn\n",
    "from sklearn import cross_validation\n",
    "from sklearn import svm\n",
    "from sklearn import metrics\n",
    "\n",
    "reload(sys)\n",
    "#sys.setdefaultencoding(\"ISO-8859-1\")\n",
    "sys.setdefaultencoding(\"UTF-8\")"
   ]
  },
  {
   "cell_type": "code",
   "execution_count": 2,
   "metadata": {
    "collapsed": true
   },
   "outputs": [],
   "source": [
    "def clean_text(raw_text):\n",
    "    review_text = BeautifulSoup(raw_text).get_text()\n",
    "    words = review_text.lower().split()\n",
    "    return(\" \".join(words))"
   ]
  },
  {
   "cell_type": "code",
   "execution_count": 3,
   "metadata": {
    "collapsed": true
   },
   "outputs": [],
   "source": [
    "languages = [\"english\"]\n",
    "datafiles = [\"summary-english-truth.txt\"]"
   ]
  },
  {
   "cell_type": "code",
   "execution_count": 4,
   "metadata": {
    "collapsed": true
   },
   "outputs": [],
   "source": [
    "for language, datafile in zip(languages, datafiles):\n",
    "    train = pd.read_csv(datafile, header=0, delimiter=\"\\t\", quoting=1)\n",
    "    num_text = train[\"text\"].size\n",
    "    clean_train_data = []\n",
    "    \n",
    "    for i in xrange( 0, num_text):\n",
    "        clean_train_data.append( clean_text( train[\"text\"][i] ) )\n",
    "    \n",
    "    vectorizer = TfidfVectorizer(analyzer = \"word\", tokenizer = None, preprocessor = None)\n",
    "    train_x = vectorizer.fit_transform(clean_train_data)\n",
    "    train_x = train_x.toarray()"
   ]
  },
  {
   "cell_type": "code",
   "execution_count": 5,
   "metadata": {
    "collapsed": false
   },
   "outputs": [
    {
     "data": {
      "text/plain": [
       "(152, 26264)"
      ]
     },
     "execution_count": 5,
     "metadata": {},
     "output_type": "execute_result"
    }
   ],
   "source": [
    "train_x.shape"
   ]
  },
  {
   "cell_type": "code",
   "execution_count": 6,
   "metadata": {
    "collapsed": true
   },
   "outputs": [],
   "source": [
    "with open('combo-important-features.txt') as f:\n",
    "    alist = [line.rstrip() for line in f]"
   ]
  },
  {
   "cell_type": "code",
   "execution_count": 7,
   "metadata": {
    "collapsed": true
   },
   "outputs": [],
   "source": [
    "all_indices_ranked = alist[0].split(',')\n",
    "all_indices_ranked = [int(x) for x in all_indices_ranked]\n",
    "all_indices_ranked = [x-1 for x in all_indices_ranked]"
   ]
  },
  {
   "cell_type": "code",
   "execution_count": 8,
   "metadata": {
    "collapsed": true
   },
   "outputs": [],
   "source": [
    "num_info_words = 400"
   ]
  },
  {
   "cell_type": "code",
   "execution_count": 9,
   "metadata": {
    "collapsed": true
   },
   "outputs": [],
   "source": [
    "train = pd.read_csv(\"new-train-data.tsv\", header=0, delimiter=\"\\t\", quoting=1)\n",
    "train_y = train['target']\n",
    "list_of_scores = []\n",
    "\n",
    "scoring_function = 'accuracy'\n",
    "xx = [all_indices_ranked[x] for x in range(0, num_info_words)]\n",
    "xx = tuple(xx)\n",
    "smaller_train_x = train_x[:, xx]"
   ]
  },
  {
   "cell_type": "code",
   "execution_count": 10,
   "metadata": {
    "collapsed": false
   },
   "outputs": [
    {
     "data": {
      "text/plain": [
       "(152, 400)"
      ]
     },
     "execution_count": 10,
     "metadata": {},
     "output_type": "execute_result"
    }
   ],
   "source": [
    "smaller_train_x.shape"
   ]
  },
  {
   "cell_type": "code",
   "execution_count": 11,
   "metadata": {
    "collapsed": true
   },
   "outputs": [],
   "source": [
    "# lin svm\n",
    "C = [1, 2, 3, 5, 10, 100, 1000]\n",
    "list_of_scores_for_linear_svc = []"
   ]
  },
  {
   "cell_type": "code",
   "execution_count": 12,
   "metadata": {
    "collapsed": false
   },
   "outputs": [],
   "source": [
    "for each_C in C:\n",
    "    clf = svm.SVC(kernel='linear', C=each_C)\n",
    "    scores = cross_validation.cross_val_score(clf, smaller_train_x, train_y, cv=10, scoring=scoring_function)\n",
    "    list_of_scores_for_linear_svc.append(scores)"
   ]
  },
  {
   "cell_type": "code",
   "execution_count": 13,
   "metadata": {
    "collapsed": false
   },
   "outputs": [
    {
     "data": {
      "text/plain": [
       "[0.3691666666666667,\n",
       " 0.37541666666666662,\n",
       " 0.36250000000000004,\n",
       " 0.36875000000000002,\n",
       " 0.41500000000000004,\n",
       " 0.49416666666666664,\n",
       " 0.49333333333333335]"
      ]
     },
     "execution_count": 13,
     "metadata": {},
     "output_type": "execute_result"
    }
   ],
   "source": [
    "list_of_accuracies_for_linear_svc = [x.mean() for x in  list_of_scores_for_linear_svc]\n",
    "list_of_accuracies_for_linear_svc"
   ]
  },
  {
   "cell_type": "code",
   "execution_count": 19,
   "metadata": {
    "collapsed": false
   },
   "outputs": [
    {
     "data": {
      "image/png": "[encoded data removed]",
      "text/plain": [
       "<matplotlib.figure.Figure at 0x7fdbf6d6ad50>"
      ]
     },
     "metadata": {},
     "output_type": "display_data"
    }
   ],
   "source": [
    "%matplotlib inline\n",
    "import matplotlib.pyplot as plt\n",
    "plt.plot(C, list_of_accuracies_for_linear_svc, 'ro')\n",
    "plt.axis([-20, 1200, 0, 0.6])\n",
    "plt.show()"
   ]
  },
  {
   "cell_type": "code",
   "execution_count": 20,
   "metadata": {
    "collapsed": true
   },
   "outputs": [],
   "source": [
    "#rbf\n",
    "lam = [1e-2, 1e-3, 1e-4, 1e-5]\n",
    "list_of_scores_for_rbf = []"
   ]
  },
  {
   "cell_type": "code",
   "execution_count": 21,
   "metadata": {
    "collapsed": true
   },
   "outputs": [],
   "source": [
    "for each_lam in lam:\n",
    "    clf = svm.SVC(kernel='rbf', C=each_lam)\n",
    "    scores = cross_validation.cross_val_score(clf, smaller_train_x, train_y, cv=10, scoring=scoring_function)\n",
    "    list_of_scores_for_rbf.append(scores)"
   ]
  },
  {
   "cell_type": "code",
   "execution_count": 22,
   "metadata": {
    "collapsed": false
   },
   "outputs": [
    {
     "data": {
      "text/plain": [
       "[0.24291666666666667,\n",
       " 0.24291666666666667,\n",
       " 0.24291666666666667,\n",
       " 0.24291666666666667]"
      ]
     },
     "execution_count": 22,
     "metadata": {},
     "output_type": "execute_result"
    }
   ],
   "source": [
    "list_of_accuracies_for_rbf = [x.mean() for x in  list_of_scores_for_rbf]\n",
    "list_of_accuracies_for_rbf"
   ]
  },
  {
   "cell_type": "code",
   "execution_count": 26,
   "metadata": {
    "collapsed": false
   },
   "outputs": [
    {
     "data": {
      "image/png": "[encoded data removed]",
      "text/plain": [
       "<matplotlib.figure.Figure at 0x7fdbf2e4a250>"
      ]
     },
     "metadata": {},
     "output_type": "display_data"
    }
   ],
   "source": [
    "plt.plot(lam, list_of_accuracies_for_rbf, 'ro')\n",
    "#plt.axis([-0.1, 0.15, 0, 0.3])\n",
    "plt.show()"
   ]
  },
  {
   "cell_type": "code",
   "execution_count": 33,
   "metadata": {
    "collapsed": true
   },
   "outputs": [],
   "source": [
    "#polynomial\n",
    "degrees = [2, 3, 4]\n",
    "coeffs = [0.25, 0.5, 1, 2, 5, 10, 20, 100]\n",
    "list_of_scores_for_poly = []"
   ]
  },
  {
   "cell_type": "code",
   "execution_count": 34,
   "metadata": {
    "collapsed": false
   },
   "outputs": [],
   "source": [
    "for degree in degrees:\n",
    "    for coeff in coeffs:\n",
    "        clf = svm.SVC(kernel='poly', degree=degree, coef0=coeff)\n",
    "        scores = cross_validation.cross_val_score(clf, smaller_train_x, train_y, cv=10, scoring=scoring_function)\n",
    "        list_of_scores_for_poly.append(scores)"
   ]
  },
  {
   "cell_type": "code",
   "execution_count": 35,
   "metadata": {
    "collapsed": false
   },
   "outputs": [
    {
     "data": {
      "text/plain": [
       "[0.24291666666666667,\n",
       " 0.24291666666666667,\n",
       " 0.24291666666666667,\n",
       " 0.24291666666666667,\n",
       " 0.24291666666666667,\n",
       " 0.24291666666666667,\n",
       " 0.24291666666666667,\n",
       " 0.34208333333333335,\n",
       " 0.24291666666666667,\n",
       " 0.24291666666666667,\n",
       " 0.24291666666666667,\n",
       " 0.24291666666666667,\n",
       " 0.24291666666666667,\n",
       " 0.36249999999999999,\n",
       " 0.36250000000000004,\n",
       " 0.48791666666666655,\n",
       " 0.24291666666666667,\n",
       " 0.24291666666666667,\n",
       " 0.24291666666666667,\n",
       " 0.24291666666666667,\n",
       " 0.3691666666666667,\n",
       " 0.41500000000000004,\n",
       " 0.50791666666666668,\n",
       " 0.4604166666666667]"
      ]
     },
     "execution_count": 35,
     "metadata": {},
     "output_type": "execute_result"
    }
   ],
   "source": [
    "list_of_accuracies_for_poly = [x.mean() for x in  list_of_scores_for_poly]\n",
    "list_of_accuracies_for_poly"
   ]
  },
  {
   "cell_type": "code",
   "execution_count": 36,
   "metadata": {
    "collapsed": true
   },
   "outputs": [],
   "source": [
    "#sigmoid\n",
    "list_of_scores_for_sigmoid = []\n",
    "for coeff in coeffs:\n",
    "    clf = svm.SVC(kernel='sigmoid', coef0=coeff)\n",
    "    scores = cross_validation.cross_val_score(clf, smaller_train_x, train_y, cv=10, scoring=scoring_function)\n",
    "    list_of_scores_for_sigmoid.append(scores)"
   ]
  },
  {
   "cell_type": "code",
   "execution_count": 37,
   "metadata": {
    "collapsed": false
   },
   "outputs": [
    {
     "data": {
      "text/plain": [
       "[0.19750000000000001,\n",
       " 0.19083333333333335,\n",
       " 0.19083333333333335,\n",
       " 0.19750000000000001,\n",
       " 0.19083333333333335,\n",
       " 0.19750000000000001,\n",
       " 0.19750000000000001,\n",
       " 0.19750000000000001]"
      ]
     },
     "execution_count": 37,
     "metadata": {},
     "output_type": "execute_result"
    }
   ],
   "source": [
    "list_of_accuracies_for_sigmoid = [x.mean() for x in  list_of_scores_for_sigmoid]\n",
    "list_of_accuracies_for_sigmoid\n"
   ]
  },
  {
   "cell_type": "code",
   "execution_count": 38,
   "metadata": {
    "collapsed": false
   },
   "outputs": [
    {
     "data": {
      "image/png": "[encoded data removed]",
      "text/plain": [
       "<matplotlib.figure.Figure at 0x7fdbf3029c90>"
      ]
     },
     "metadata": {},
     "output_type": "display_data"
    }
   ],
   "source": [
    "plt.plot(coeffs, list_of_accuracies_for_sigmoid, 'ro')\n",
    "#plt.axis([-0.1, 0.15, 0, 0.3])\n",
    "plt.show()"
   ]
  },
  {
   "cell_type": "code",
   "execution_count": 43,
   "metadata": {
    "collapsed": false
   },
   "outputs": [],
   "source": [
    "from scipy import stats\n",
    "import pandas as pd\n",
    "p_value_matrix = np.zeros((len(list_of_scores_for_linear_svc), len(list_of_scores_for_linear_svc)))\n",
    "i = range(0, len(list_of_scores_for_linear_svc))\n",
    "#sig values\n",
    "for treatment1,x in zip(list_of_scores_for_linear_svc,i):\n",
    "    for treatment2,y in zip(list_of_scores_for_linear_svc,i):\n",
    "        z_stat, p_val = stats.ranksums(treatment1, treatment2)\n",
    "        p_value_matrix[x,y] = p_val\n",
    "        "
   ]
  },
  {
   "cell_type": "code",
   "execution_count": 47,
   "metadata": {
    "collapsed": false
   },
   "outputs": [],
   "source": [
    "df = pd.DataFrame(data = p_value_matrix, columns=list_of_accuracies_for_linear_svc)\n",
    "df.index = list_of_accuracies_for_linear_svc"
   ]
  },
  {
   "cell_type": "code",
   "execution_count": 48,
   "metadata": {
    "collapsed": false
   },
   "outputs": [
    {
     "data": {
      "text/html": [
       "<div style=\"max-height:1000px;max-width:1500px;overflow:auto;\">\n",
       "<table border=\"1\" class=\"dataframe\">\n",
       "  <thead>\n",
       "    <tr style=\"text-align: right;\">\n",
       "      <th></th>\n",
       "      <th>0.369166666667</th>\n",
       "      <th>0.375416666667</th>\n",
       "      <th>0.3625</th>\n",
       "      <th>0.36875</th>\n",
       "      <th>0.415</th>\n",
       "      <th>0.494166666667</th>\n",
       "      <th>0.493333333333</th>\n",
       "    </tr>\n",
       "  </thead>\n",
       "  <tbody>\n",
       "    <tr>\n",
       "      <th>0.369167</th>\n",
       "      <td> 1.000000</td>\n",
       "      <td> 0.791337</td>\n",
       "      <td> 0.850107</td>\n",
       "      <td> 0.939743</td>\n",
       "      <td> 0.364346</td>\n",
       "      <td> 0.096304</td>\n",
       "      <td> 0.025748</td>\n",
       "    </tr>\n",
       "    <tr>\n",
       "      <th>0.375417</th>\n",
       "      <td> 0.791337</td>\n",
       "      <td> 1.000000</td>\n",
       "      <td> 0.791337</td>\n",
       "      <td> 0.791337</td>\n",
       "      <td> 0.472676</td>\n",
       "      <td> 0.096304</td>\n",
       "      <td> 0.053903</td>\n",
       "    </tr>\n",
       "    <tr>\n",
       "      <th>0.362500</th>\n",
       "      <td> 0.850107</td>\n",
       "      <td> 0.791337</td>\n",
       "      <td> 1.000000</td>\n",
       "      <td> 0.791337</td>\n",
       "      <td> 0.289918</td>\n",
       "      <td> 0.096304</td>\n",
       "      <td> 0.031209</td>\n",
       "    </tr>\n",
       "    <tr>\n",
       "      <th>0.368750</th>\n",
       "      <td> 0.939743</td>\n",
       "      <td> 0.791337</td>\n",
       "      <td> 0.791337</td>\n",
       "      <td> 1.000000</td>\n",
       "      <td> 0.307489</td>\n",
       "      <td> 0.104110</td>\n",
       "      <td> 0.023342</td>\n",
       "    </tr>\n",
       "    <tr>\n",
       "      <th>0.415000</th>\n",
       "      <td> 0.364346</td>\n",
       "      <td> 0.472676</td>\n",
       "      <td> 0.289918</td>\n",
       "      <td> 0.307489</td>\n",
       "      <td> 1.000000</td>\n",
       "      <td> 0.212294</td>\n",
       "      <td> 0.161972</td>\n",
       "    </tr>\n",
       "    <tr>\n",
       "      <th>0.494167</th>\n",
       "      <td> 0.096304</td>\n",
       "      <td> 0.096304</td>\n",
       "      <td> 0.096304</td>\n",
       "      <td> 0.104110</td>\n",
       "      <td> 0.212294</td>\n",
       "      <td> 1.000000</td>\n",
       "      <td> 0.969850</td>\n",
       "    </tr>\n",
       "    <tr>\n",
       "      <th>0.493333</th>\n",
       "      <td> 0.025748</td>\n",
       "      <td> 0.053903</td>\n",
       "      <td> 0.031209</td>\n",
       "      <td> 0.023342</td>\n",
       "      <td> 0.161972</td>\n",
       "      <td> 0.969850</td>\n",
       "      <td> 1.000000</td>\n",
       "    </tr>\n",
       "  </tbody>\n",
       "</table>\n",
       "<p>7 rows × 7 columns</p>\n",
       "</div>"
      ],
      "text/plain": [
       "          0.369167  0.375417  0.362500  0.368750  0.415000  0.494167  0.493333\n",
       "0.369167  1.000000  0.791337  0.850107  0.939743  0.364346  0.096304  0.025748\n",
       "0.375417  0.791337  1.000000  0.791337  0.791337  0.472676  0.096304  0.053903\n",
       "0.362500  0.850107  0.791337  1.000000  0.791337  0.289918  0.096304  0.031209\n",
       "0.368750  0.939743  0.791337  0.791337  1.000000  0.307489  0.104110  0.023342\n",
       "0.415000  0.364346  0.472676  0.289918  0.307489  1.000000  0.212294  0.161972\n",
       "0.494167  0.096304  0.096304  0.096304  0.104110  0.212294  1.000000  0.969850\n",
       "0.493333  0.025748  0.053903  0.031209  0.023342  0.161972  0.969850  1.000000\n",
       "\n",
       "[7 rows x 7 columns]"
      ]
     },
     "execution_count": 48,
     "metadata": {},
     "output_type": "execute_result"
    }
   ],
   "source": [
    "df"
   ]
  },
  {
   "cell_type": "code",
   "execution_count": 49,
   "metadata": {
    "collapsed": true
   },
   "outputs": [],
   "source": [
    "null_disproved = df[df < 0.05]"
   ]
  },
  {
   "cell_type": "code",
   "execution_count": 50,
   "metadata": {
    "collapsed": true
   },
   "outputs": [],
   "source": [
    "null_disproved.to_csv('p_value_matrix_output_linear_svc.csv', sep='\\t', encoding='utf-8')"
   ]
  },
  {
   "cell_type": "code",
   "execution_count": 53,
   "metadata": {
    "collapsed": false
   },
   "outputs": [],
   "source": [
    "def writeNullDisproved(list_of_scores, header, name):\n",
    "    p_value_matrix = np.zeros((len(list_of_scores), len(list_of_scores)))\n",
    "    i = range(0, len(list_of_scores))\n",
    "\n",
    "    for treatment1,x in zip(list_of_scores,i):\n",
    "        for treatment2,y in zip(list_of_scores,i):\n",
    "            z_stat, p_val = stats.ranksums(treatment1, treatment2)\n",
    "            p_value_matrix[x,y] = p_val\n",
    "    df = pd.DataFrame(data = p_value_matrix, columns=header)\n",
    "    df.index = header\n",
    "    null_disproved = df[df < 0.05]\n",
    "    \n",
    "    fileName = 'p_value_matrix_output_' + name + '.csv'\n",
    "    null_disproved.to_csv(fileName, sep='\\t', encoding='utf-8')"
   ]
  },
  {
   "cell_type": "code",
   "execution_count": 54,
   "metadata": {
    "collapsed": true
   },
   "outputs": [],
   "source": [
    "writeNullDisproved(list_of_scores_for_rbf, list_of_accuracies_for_rbf, 'rbf')"
   ]
  },
  {
   "cell_type": "code",
   "execution_count": 55,
   "metadata": {
    "collapsed": true
   },
   "outputs": [],
   "source": [
    "writeNullDisproved(list_of_scores_for_poly, list_of_accuracies_for_poly, 'poly')"
   ]
  },
  {
   "cell_type": "code",
   "execution_count": 56,
   "metadata": {
    "collapsed": true
   },
   "outputs": [],
   "source": [
    "writeNullDisproved(list_of_scores_for_sigmoid, list_of_accuracies_for_sigmoid, 'sigmoid')"
   ]
  },
  {
   "cell_type": "code",
   "execution_count": null,
   "metadata": {
    "collapsed": true
   },
   "outputs": [],
   "source": []
  }
 ],
 "metadata": {
  "kernelspec": {
   "display_name": "Python 2",
   "language": "python",
   "name": "python2"
  },
  "language_info": {
   "codemirror_mode": {
    "name": "ipython",
    "version": 2
   },
   "file_extension": ".py",
   "mimetype": "text/x-python",
   "name": "python",
   "nbconvert_exporter": "python",
   "pygments_lexer": "ipython2",
   "version": "2.7.6"
  }
 },
 "nbformat": 4,
 "nbformat_minor": 0
}
