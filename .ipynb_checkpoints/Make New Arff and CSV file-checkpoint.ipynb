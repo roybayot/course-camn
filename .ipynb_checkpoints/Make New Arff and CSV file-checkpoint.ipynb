{
 "cells": [
  {
   "cell_type": "code",
   "execution_count": 1,
   "metadata": {
    "collapsed": true
   },
   "outputs": [],
   "source": [
    "import pandas as pd\n",
    "import numpy as np\n",
    "from sklearn.feature_extraction.text import TfidfVectorizer\n",
    "from bs4 import BeautifulSoup\n",
    "import sys\n",
    "import os\n",
    "\n",
    "\n",
    "reload(sys)\n",
    "#sys.setdefaultencoding(\"ISO-8859-1\")\n",
    "sys.setdefaultencoding(\"UTF-8\")"
   ]
  },
  {
   "cell_type": "code",
   "execution_count": 2,
   "metadata": {
    "collapsed": true
   },
   "outputs": [],
   "source": [
    "def clean_text(raw_text):\n",
    "    review_text = BeautifulSoup(raw_text).get_text()\n",
    "    words = review_text.lower().split()\n",
    "    return(\" \".join(words))"
   ]
  },
  {
   "cell_type": "code",
   "execution_count": 3,
   "metadata": {
    "collapsed": true
   },
   "outputs": [],
   "source": [
    "languages = [\"english\"]\n",
    "datafiles = [\"summary-english-truth.txt\"]\n",
    "tasks = [\"gender\", \"age\"]"
   ]
  },
  {
   "cell_type": "code",
   "execution_count": 16,
   "metadata": {
    "collapsed": false
   },
   "outputs": [],
   "source": [
    "def makeArff(train_x, train_y, task, feature_names):\n",
    "    file_name = task + \".arff\"\n",
    "    file = open(file_name, \"w\")\n",
    "    file.write(\"@relation\" + \" \" + task + \"\\n\")\n",
    "    \n",
    "    for each_feature_name in feature_names:\n",
    "        file.write(\"@attribute\" + \" \" + each_feature_name + \" \" + \"real\\n\")\n",
    "    \n",
    "    class_vals = \"{0,1,2,3,4,5,6,7}\"\n",
    "    \n",
    "    file.write(\"@attribute\" + \" target_class \" + class_vals + \"\\n\")\n",
    "    file.write(\"@data\"+ \"\\n\")\n",
    "    \n",
    "    for row in xrange(0,rows):\n",
    "        for col in xrange(0,cols):\n",
    "            file.write(str(train_x[row][col]) + \",\")\n",
    "        file.write(str(train_y[row]) + \"\\n\")\n",
    "    file.close()"
   ]
  },
  {
   "cell_type": "code",
   "execution_count": 17,
   "metadata": {
    "collapsed": true
   },
   "outputs": [],
   "source": [
    "for language, datafile in zip(languages, datafiles):\n",
    "    train = pd.read_csv(datafile, header=0, delimiter=\"\\t\", quoting=1)\n",
    "    num_text = train[\"text\"].size\n",
    "    clean_train_data = []\n",
    "    for i in xrange( 0, num_text):\n",
    "        clean_train_data.append( clean_text( train[\"text\"][i] ) )\n",
    "        vectorizer = TfidfVectorizer(analyzer = \"word\", tokenizer = None, preprocessor = None)\n",
    "        \n",
    "        train_x = vectorizer.fit_transform(clean_train_data)\n",
    "        train_x = train_x.toarray()\n",
    "    print \"shape: \", train_x.shape\n",
    "    rows, cols = train_x.shape"
   ]
  },
  {
   "cell_type": "code",
   "execution_count": 18,
   "metadata": {
    "collapsed": true
   },
   "outputs": [],
   "source": [
    "def newTarget(age, gender):\n",
    "    if gender == 0 and age == 0:\n",
    "        return 0\n",
    "    elif gender == 0 and age == 1:\n",
    "        return 1\n",
    "    elif gender == 0 and age == 2:\n",
    "        return 2\n",
    "    elif gender == 0 and age == 3:\n",
    "        return 3\n",
    "    elif gender == 1 and age == 0:\n",
    "        return 4\n",
    "    elif gender == 1 and age == 1:\n",
    "        return 5\n",
    "    elif gender == 1 and age == 2:\n",
    "        return 6\n",
    "    else:\n",
    "        return 7"
   ]
  },
  {
   "cell_type": "code",
   "execution_count": 19,
   "metadata": {
    "collapsed": true
   },
   "outputs": [],
   "source": [
    "target_age = train[\"age\"]\n",
    "target_gender = train[\"gender\"]\n",
    "new_targets = np.array([newTarget(x,y) for x,y in zip(target_age, target_gender)])"
   ]
  },
  {
   "cell_type": "code",
   "execution_count": 21,
   "metadata": {
    "collapsed": false
   },
   "outputs": [],
   "source": [
    "feature_names = vectorizer.get_feature_names()"
   ]
  },
  {
   "cell_type": "code",
   "execution_count": 22,
   "metadata": {
    "collapsed": false
   },
   "outputs": [],
   "source": [
    "makeArff(train_x, new_targets, \"combined-age-gender\", feature_names)"
   ]
  },
  {
   "cell_type": "code",
   "execution_count": null,
   "metadata": {
    "collapsed": true
   },
   "outputs": [],
   "source": [
    "def makeTSV(target):\n",
    "    "
   ]
  }
 ],
 "metadata": {
  "kernelspec": {
   "display_name": "Python 2",
   "language": "python",
   "name": "python2"
  },
  "language_info": {
   "codemirror_mode": {
    "name": "ipython",
    "version": 2
   },
   "file_extension": ".py",
   "mimetype": "text/x-python",
   "name": "python",
   "nbconvert_exporter": "python",
   "pygments_lexer": "ipython2",
   "version": "2.7.6"
  }
 },
 "nbformat": 4,
 "nbformat_minor": 0
}
