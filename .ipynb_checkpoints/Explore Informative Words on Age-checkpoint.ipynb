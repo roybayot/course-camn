{
 "cells": [
  {
   "cell_type": "code",
   "execution_count": 2,
   "metadata": {
    "collapsed": true
   },
   "outputs": [],
   "source": [
    "import pandas as pd\n",
    "import numpy as np\n",
    "from sklearn.feature_extraction.text import TfidfVectorizer\n",
    "from bs4 import BeautifulSoup\n",
    "import sys\n",
    "import os\n",
    "\n",
    "import sklearn\n",
    "from sklearn import cross_validation\n",
    "from sklearn import svm\n",
    "from sklearn import metrics\n",
    "\n",
    "reload(sys)\n",
    "#sys.setdefaultencoding(\"ISO-8859-1\")\n",
    "sys.setdefaultencoding(\"UTF-8\")"
   ]
  },
  {
   "cell_type": "code",
   "execution_count": 3,
   "metadata": {
    "collapsed": true
   },
   "outputs": [],
   "source": [
    "def clean_text(raw_text):\n",
    "    review_text = BeautifulSoup(raw_text).get_text()\n",
    "    words = review_text.lower().split()\n",
    "    return(\" \".join(words))"
   ]
  },
  {
   "cell_type": "code",
   "execution_count": 4,
   "metadata": {
    "collapsed": true
   },
   "outputs": [],
   "source": [
    "languages = [\"english\"]\n",
    "datafiles = [\"summary-english-truth.txt\"]\n",
    "tasks = [\"age\"]"
   ]
  },
  {
   "cell_type": "code",
   "execution_count": 5,
   "metadata": {
    "collapsed": true
   },
   "outputs": [],
   "source": [
    "for language, datafile in zip(languages, datafiles):\n",
    "    train = pd.read_csv(datafile, header=0, delimiter=\"\\t\", quoting=1)\n",
    "    num_text = train[\"text\"].size\n",
    "    clean_train_data = []\n",
    "    \n",
    "    for i in xrange( 0, num_text):\n",
    "        clean_train_data.append( clean_text( train[\"text\"][i] ) )\n",
    "        vectorizer = TfidfVectorizer(analyzer = \"word\", tokenizer = None, preprocessor = None)\n",
    "        \n",
    "        train_x = vectorizer.fit_transform(clean_train_data)\n",
    "        train_x = train_x.toarray()\n",
    "    print \"shape: \", train_x.shape\n",
    "    rows, cols = train_x.shape"
   ]
  },
  {
   "cell_type": "code",
   "execution_count": 13,
   "metadata": {
    "collapsed": false
   },
   "outputs": [],
   "source": [
    "with open('age-important-words.txt') as f:\n",
    "    alist = [line.rstrip() for line in f]"
   ]
  },
  {
   "cell_type": "code",
   "execution_count": 14,
   "metadata": {
    "collapsed": false
   },
   "outputs": [],
   "source": [
    "all_indices_ranked = alist[0].split(',')"
   ]
  },
  {
   "cell_type": "code",
   "execution_count": 15,
   "metadata": {
    "collapsed": false
   },
   "outputs": [],
   "source": [
    "all_indices_ranked = [int(x) for x in all_indices_ranked]\n",
    "all_indices_ranked = [x-1 for x in all_indices_ranked]"
   ]
  },
  {
   "cell_type": "code",
   "execution_count": 52,
   "metadata": {
    "collapsed": false
   },
   "outputs": [],
   "source": [
    "top_info_words_numbers = [1, 2, 3, 4, 5, 6, 7, 8, 9, 10, 25, 50, 100, 200, 300, 400, 500, 600, 700, 800, 900, 1000, 2000, 5000, 10000, 20000, 25000, 26000, 26200, 26260]"
   ]
  },
  {
   "cell_type": "code",
   "execution_count": 53,
   "metadata": {
    "collapsed": false
   },
   "outputs": [],
   "source": [
    "train = pd.read_csv(\"summary-english-truth.txt\", header=0, delimiter=\"\\t\", quoting=1)\n",
    "train_y = train['age']\n",
    "list_of_scores = []\n",
    "for num_info_words in top_info_words_numbers:\n",
    "    clf = svm.SVC(kernel='linear', C=1)\n",
    "    scoring_function = 'accuracy'\n",
    "    xx = [all_indices_ranked[x] for x in range(0, num_info_words)]\n",
    "    xx = tuple(xx)\n",
    "    smaller_train_x = train_x[:, xx]\n",
    "\n",
    "    scores = cross_validation.cross_val_score(clf, smaller_train_x, train_y, cv=10, scoring=scoring_function)\n",
    "    list_of_scores.append(scores.mean())"
   ]
  },
  {
   "cell_type": "code",
   "execution_count": 54,
   "metadata": {
    "collapsed": false
   },
   "outputs": [
    {
     "data": {
      "text/plain": [
       "[0.39500000000000002,\n",
       " 0.5854166666666667,\n",
       " 0.59916666666666663,\n",
       " 0.59916666666666663,\n",
       " 0.59916666666666663,\n",
       " 0.59916666666666663,\n",
       " 0.59916666666666663,\n",
       " 0.59250000000000003,\n",
       " 0.59250000000000003,\n",
       " 0.59250000000000003,\n",
       " 0.60583333333333322,\n",
       " 0.59916666666666663,\n",
       " 0.61874999999999991,\n",
       " 0.61874999999999991,\n",
       " 0.61874999999999991,\n",
       " 0.61874999999999991,\n",
       " 0.61874999999999991,\n",
       " 0.61874999999999991,\n",
       " 0.61874999999999991,\n",
       " 0.61874999999999991,\n",
       " 0.61874999999999991,\n",
       " 0.61874999999999991,\n",
       " 0.61874999999999991,\n",
       " 0.61874999999999991,\n",
       " 0.63208333333333333,\n",
       " 0.67166666666666663,\n",
       " 0.68499999999999994,\n",
       " 0.69124999999999992,\n",
       " 0.69124999999999992,\n",
       " 0.69124999999999992]"
      ]
     },
     "execution_count": 54,
     "metadata": {},
     "output_type": "execute_result"
    }
   ],
   "source": [
    "list_of_scores"
   ]
  },
  {
   "cell_type": "code",
   "execution_count": null,
   "metadata": {
    "collapsed": true
   },
   "outputs": [],
   "source": []
  }
 ],
 "metadata": {
  "kernelspec": {
   "display_name": "Python 2",
   "language": "python",
   "name": "python2"
  },
  "language_info": {
   "codemirror_mode": {
    "name": "ipython",
    "version": 2
   },
   "file_extension": ".py",
   "mimetype": "text/x-python",
   "name": "python",
   "nbconvert_exporter": "python",
   "pygments_lexer": "ipython2",
   "version": "2.7.6"
  }
 },
 "nbformat": 4,
 "nbformat_minor": 0
}
