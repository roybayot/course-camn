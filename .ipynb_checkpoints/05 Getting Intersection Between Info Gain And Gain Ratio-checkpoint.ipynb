{
 "cells": [
  {
   "cell_type": "code",
   "execution_count": 1,
   "metadata": {
    "collapsed": true
   },
   "outputs": [],
   "source": [
    "import pandas as pd\n",
    "import numpy as np\n",
    "from sklearn.feature_extraction.text import TfidfVectorizer\n",
    "from bs4 import BeautifulSoup\n",
    "import sys\n",
    "import os\n",
    "\n",
    "import sklearn\n",
    "from sklearn import cross_validation\n",
    "from sklearn import svm\n",
    "from sklearn import metrics\n",
    "\n",
    "reload(sys)\n",
    "#sys.setdefaultencoding(\"ISO-8859-1\")\n",
    "sys.setdefaultencoding(\"UTF-8\")"
   ]
  },
  {
   "cell_type": "code",
   "execution_count": 2,
   "metadata": {
    "collapsed": true
   },
   "outputs": [],
   "source": [
    "def clean_text(raw_text):\n",
    "    review_text = BeautifulSoup(raw_text).get_text()\n",
    "    words = review_text.lower().split()\n",
    "    return(\" \".join(words))"
   ]
  },
  {
   "cell_type": "code",
   "execution_count": null,
   "metadata": {
    "collapsed": true
   },
   "outputs": [],
   "source": [
    "number_of_features = 100"
   ]
  },
  {
   "cell_type": "code",
   "execution_count": 3,
   "metadata": {
    "collapsed": true
   },
   "outputs": [],
   "source": [
    "languages = [\"english\"]\n",
    "datafiles = [\"summary-english-truth.txt\"]\n",
    "tasks = [\"age\"]\n",
    "for language, datafile in zip(languages, datafiles):\n",
    "    train = pd.read_csv(datafile, header=0, delimiter=\"\\t\", quoting=1)\n",
    "    num_text = train[\"text\"].size\n",
    "    clean_train_data = []\n",
    "    \n",
    "    for i in xrange( 0, num_text):\n",
    "        clean_train_data.append( clean_text( train[\"text\"][i] ) )\n",
    "        vectorizer = TfidfVectorizer(analyzer = \"word\", tokenizer = None, preprocessor = None)\n",
    "        \n",
    "        train_x = vectorizer.fit_transform(clean_train_data)\n",
    "        train_x = train_x.toarray()\n",
    "    print \"shape: \", train_x.shape\n",
    "    rows, cols = train_x.shape"
   ]
  },
  {
   "cell_type": "code",
   "execution_count": 6,
   "metadata": {
    "collapsed": false
   },
   "outputs": [],
   "source": [
    "with open('age-important-words-using-info-gain.txt') as f:\n",
    "    alist = [line.rstrip() for line in f]\n",
    "all_indices_ranked = alist[0].split(',')\n",
    "all_indices_ranked = [int(x) for x in all_indices_ranked]\n",
    "all_indices_ranked = [x-1 for x in all_indices_ranked]"
   ]
  },
  {
   "cell_type": "code",
   "execution_count": 16,
   "metadata": {
    "collapsed": false
   },
   "outputs": [],
   "source": [
    "all_feature_names = vectorizer.get_feature_names()"
   ]
  },
  {
   "cell_type": "code",
   "execution_count": 17,
   "metadata": {
    "collapsed": false
   },
   "outputs": [],
   "source": [
    "top_100_features_info_gain = [all_feature_names[all_indices_ranked[i]] for i in range(0,100)]"
   ]
  },
  {
   "cell_type": "code",
   "execution_count": 40,
   "metadata": {
    "collapsed": false
   },
   "outputs": [],
   "source": [
    "set_top_100_features_info_gain =  set(top_100_features_info_gain)"
   ]
  },
  {
   "cell_type": "code",
   "execution_count": 23,
   "metadata": {
    "collapsed": false
   },
   "outputs": [],
   "source": [
    "#get the one for gain ratio"
   ]
  },
  {
   "cell_type": "code",
   "execution_count": 24,
   "metadata": {
    "collapsed": true
   },
   "outputs": [],
   "source": [
    "with open('age-important-words-using-gain-ratio.txt') as f:\n",
    "    alist = [line.rstrip() for line in f]\n",
    "all_indices_ranked = alist[0].split(',')\n",
    "all_indices_ranked = [int(x) for x in all_indices_ranked]\n",
    "all_indices_ranked = [x-1 for x in all_indices_ranked]"
   ]
  },
  {
   "cell_type": "code",
   "execution_count": 29,
   "metadata": {
    "collapsed": false
   },
   "outputs": [],
   "source": [
    "top_100_features_gain_ratio = [all_feature_names[all_indices_ranked[i]] for i in range(0,100)]"
   ]
  },
  {
   "cell_type": "code",
   "execution_count": 35,
   "metadata": {
    "collapsed": false
   },
   "outputs": [],
   "source": [
    "set_top_100_features_gain_ratio =  set(top_100_features_gain_ratio)"
   ]
  },
  {
   "cell_type": "code",
   "execution_count": 31,
   "metadata": {
    "collapsed": true
   },
   "outputs": [],
   "source": [
    "#getting intersection between two"
   ]
  },
  {
   "cell_type": "code",
   "execution_count": 45,
   "metadata": {
    "collapsed": false
   },
   "outputs": [
    {
     "data": {
      "text/plain": [
       "set()"
      ]
     },
     "execution_count": 45,
     "metadata": {},
     "output_type": "execute_result"
    }
   ],
   "source": [
    "intersection_of_two = set_top_100_features_gain_ratio.intersection(set_top_100_features_info_gain)"
   ]
  },
  {
   "cell_type": "code",
   "execution_count": 49,
   "metadata": {
    "collapsed": false
   },
   "outputs": [],
   "source": [
    "union_of_two = set_top_100_features_gain_ratio.union(set_top_100_features_info_gain)"
   ]
  },
  {
   "cell_type": "code",
   "execution_count": 48,
   "metadata": {
    "collapsed": false
   },
   "outputs": [
    {
     "data": {
      "text/plain": [
       "{u'800',\n",
       " u'academia',\n",
       " u'ahoy',\n",
       " u'ain',\n",
       " u'airs',\n",
       " u'algorithm',\n",
       " u'all',\n",
       " u'altho',\n",
       " u'analyze',\n",
       " u'anymore',\n",
       " u'aqu\\xed',\n",
       " u'ass',\n",
       " u'atkinson',\n",
       " u'awake',\n",
       " u'back',\n",
       " u'bed',\n",
       " u'ben',\n",
       " u'benghazi',\n",
       " u'biological',\n",
       " u'bitch',\n",
       " u'bitches',\n",
       " u'boy',\n",
       " u'british',\n",
       " u'buen',\n",
       " u'burroughs',\n",
       " u'but',\n",
       " u'caden',\n",
       " u'call',\n",
       " u'can',\n",
       " u'care',\n",
       " u'cause',\n",
       " u'ceo',\n",
       " u'cerf',\n",
       " u'chatt',\n",
       " u'chattanooga',\n",
       " u'chattanoogastrong',\n",
       " u'close',\n",
       " u'co',\n",
       " u'coach',\n",
       " u'code',\n",
       " u'collect',\n",
       " u'compi2',\n",
       " u'criteria',\n",
       " u'cute',\n",
       " u'data',\n",
       " u'deb',\n",
       " u'die',\n",
       " u'dismayed',\n",
       " u'doing',\n",
       " u'don',\n",
       " u'dustin',\n",
       " u'edits',\n",
       " u'eight',\n",
       " u'erlang',\n",
       " u'et',\n",
       " u'even',\n",
       " u'everyone',\n",
       " u'everything',\n",
       " u'exercise',\n",
       " u'explains',\n",
       " u'extraction',\n",
       " u'feel',\n",
       " u'feliz',\n",
       " u'flowrestling',\n",
       " u'franklin',\n",
       " u'fuck',\n",
       " u'fucking',\n",
       " u'gallery',\n",
       " u'girl',\n",
       " u'girls',\n",
       " u'go',\n",
       " u'goburros',\n",
       " u'going',\n",
       " u'gonna',\n",
       " u'got',\n",
       " u'gotta',\n",
       " u'hadoop',\n",
       " u'haha',\n",
       " u'hate',\n",
       " u'have',\n",
       " u'hbdnikki',\n",
       " u'hell',\n",
       " u'her',\n",
       " u'hhs',\n",
       " u'hillsboro',\n",
       " u'him',\n",
       " u'hon',\n",
       " u'http',\n",
       " u'idk',\n",
       " u'if',\n",
       " u'ik',\n",
       " u'ilu',\n",
       " u'im',\n",
       " u'incident',\n",
       " u'increases',\n",
       " u'it',\n",
       " u'itworks',\n",
       " u'jb',\n",
       " u'kfly',\n",
       " u'know',\n",
       " u'knoxville',\n",
       " u'leicasixx',\n",
       " u'like',\n",
       " u'll',\n",
       " u'love',\n",
       " u'me',\n",
       " u'mentions',\n",
       " u'methods',\n",
       " u'mobile',\n",
       " u'moc',\n",
       " u'mocs',\n",
       " u'modernvintage',\n",
       " u'my',\n",
       " u'nanny',\n",
       " u'need',\n",
       " u'neuroscience',\n",
       " u'never',\n",
       " u'new',\n",
       " u'news',\n",
       " u'night',\n",
       " u'nikki',\n",
       " u'niko',\n",
       " u'nine',\n",
       " u'no',\n",
       " u'not',\n",
       " u'nytimes',\n",
       " u'of',\n",
       " u'okay',\n",
       " u'one',\n",
       " u'only',\n",
       " u'openaccess',\n",
       " u'ortiz',\n",
       " u'others',\n",
       " u'papaw',\n",
       " u'peeps',\n",
       " u'photoedit',\n",
       " u'photoedits',\n",
       " u'plse',\n",
       " u'proceedings',\n",
       " u'project',\n",
       " u'proud56',\n",
       " u're',\n",
       " u'really',\n",
       " u'research',\n",
       " u'rocco',\n",
       " u'rockon',\n",
       " u'rory',\n",
       " u'said',\n",
       " u'sci',\n",
       " u'see',\n",
       " u'sez',\n",
       " u'sharing',\n",
       " u'she',\n",
       " u'shit',\n",
       " u'shrader',\n",
       " u'sides',\n",
       " u'sixx',\n",
       " u'sixxmas',\n",
       " u'sixxsense',\n",
       " u'sleep',\n",
       " u'so',\n",
       " u'something',\n",
       " u'song',\n",
       " u'stay',\n",
       " u'still',\n",
       " u'stop',\n",
       " u'students',\n",
       " u'take',\n",
       " u'television',\n",
       " u'tennessee',\n",
       " u'that',\n",
       " u'they',\n",
       " u'thing',\n",
       " u'this',\n",
       " u'thousands',\n",
       " u'tn',\n",
       " u'tq7zrtcreu',\n",
       " u'trek',\n",
       " u'trump',\n",
       " u'ufc',\n",
       " u'up',\n",
       " u'username_army',\n",
       " u'ut',\n",
       " u'utc',\n",
       " u'via',\n",
       " u'vinton',\n",
       " u'wanna',\n",
       " u'want',\n",
       " u'was',\n",
       " u'we',\n",
       " u'what',\n",
       " u'when',\n",
       " u'why',\n",
       " u'won',\n",
       " u'wrestler',\n",
       " u'wrestlers',\n",
       " u'wrestling',\n",
       " u'yeah',\n",
       " u'you',\n",
       " u'yrs'}"
      ]
     },
     "execution_count": 48,
     "metadata": {},
     "output_type": "execute_result"
    }
   ],
   "source": [
    "# LOOKING AT "
   ]
  },
  {
   "cell_type": "code",
   "execution_count": null,
   "metadata": {
    "collapsed": true
   },
   "outputs": [],
   "source": []
  }
 ],
 "metadata": {
  "kernelspec": {
   "display_name": "Python 2",
   "language": "python",
   "name": "python2"
  },
  "language_info": {
   "codemirror_mode": {
    "name": "ipython",
    "version": 2
   },
   "file_extension": ".py",
   "mimetype": "text/x-python",
   "name": "python",
   "nbconvert_exporter": "python",
   "pygments_lexer": "ipython2",
   "version": "2.7.6"
  }
 },
 "nbformat": 4,
 "nbformat_minor": 0
}
