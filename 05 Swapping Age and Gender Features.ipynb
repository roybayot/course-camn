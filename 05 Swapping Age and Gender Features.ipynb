{
 "cells": [
  {
   "cell_type": "code",
   "execution_count": 1,
   "metadata": {
    "collapsed": false
   },
   "outputs": [],
   "source": [
    "import pandas as pd\n",
    "import numpy as np\n",
    "from sklearn.feature_extraction.text import TfidfVectorizer\n",
    "from bs4 import BeautifulSoup\n",
    "import sys\n",
    "import os\n",
    "\n",
    "import sklearn\n",
    "from sklearn import cross_validation\n",
    "from sklearn import svm\n",
    "from sklearn import metrics\n",
    "\n",
    "reload(sys)\n",
    "#sys.setdefaultencoding(\"ISO-8859-1\")\n",
    "sys.setdefaultencoding(\"UTF-8\")\n",
    "\n",
    "def clean_text(raw_text):\n",
    "    review_text = BeautifulSoup(raw_text).get_text()\n",
    "    words = review_text.lower().split()\n",
    "    return(\" \".join(words))"
   ]
  },
  {
   "cell_type": "code",
   "execution_count": 2,
   "metadata": {
    "collapsed": true
   },
   "outputs": [],
   "source": [
    "languages = [\"english\"]\n",
    "datafiles = [\"summary-english-truth.txt\"]\n",
    "tasks = [\"age\"]\n",
    "for language, datafile in zip(languages, datafiles):\n",
    "    train = pd.read_csv(datafile, header=0, delimiter=\"\\t\", quoting=1)\n",
    "    num_text = train[\"text\"].size\n",
    "    clean_train_data = []\n",
    "    \n",
    "    for i in xrange( 0, num_text):\n",
    "        clean_train_data.append( clean_text( train[\"text\"][i] ) )\n",
    "    vectorizer = TfidfVectorizer(analyzer = \"word\", tokenizer = None, preprocessor = None)\n",
    "    train_x = vectorizer.fit_transform(clean_train_data)\n",
    "    train_x = train_x.toarray()\n",
    "    print \"shape: \", train_x.shape\n",
    "    rows, cols = train_x.shape"
   ]
  },
  {
   "cell_type": "code",
   "execution_count": 3,
   "metadata": {
    "collapsed": true
   },
   "outputs": [],
   "source": [
    "with open('age-important-words-using-info-gain.txt') as f:\n",
    "    alist = [line.rstrip() for line in f]\n",
    "all_indices_ranked = alist[0].split(',')\n",
    "all_indices_ranked = [int(x) for x in all_indices_ranked]\n",
    "all_indices_ranked = [x-1 for x in all_indices_ranked]"
   ]
  },
  {
   "cell_type": "code",
   "execution_count": 4,
   "metadata": {
    "collapsed": true
   },
   "outputs": [],
   "source": [
    "num_features = 9000\n",
    "xx = [all_indices_ranked[x] for x in range(0, num_features)]\n",
    "xx = tuple(xx)\n",
    "age_features_smaller_train_x = train_x[:, xx]"
   ]
  },
  {
   "cell_type": "code",
   "execution_count": 5,
   "metadata": {
    "collapsed": true
   },
   "outputs": [],
   "source": [
    "with open('gender-important-words-info-gain.txt') as f:\n",
    "    alist = [line.rstrip() for line in f]\n",
    "all_indices_ranked = alist[0].split(',')\n",
    "all_indices_ranked = [int(x) for x in all_indices_ranked]\n",
    "all_indices_ranked = [x-1 for x in all_indices_ranked]"
   ]
  },
  {
   "cell_type": "code",
   "execution_count": 6,
   "metadata": {
    "collapsed": true
   },
   "outputs": [],
   "source": [
    "num_features = 7000\n",
    "xx = [all_indices_ranked[x] for x in range(0, num_features)]\n",
    "xx = tuple(xx)\n",
    "gender_features_smaller_train_x = train_x[:, xx]"
   ]
  },
  {
   "cell_type": "code",
   "execution_count": 7,
   "metadata": {
    "collapsed": false
   },
   "outputs": [],
   "source": [
    "train = pd.read_csv(\"summary-english-truth.txt\", header=0, delimiter=\"\\t\", quoting=1)\n",
    "train_y_age = train['age']\n",
    "list_of_scores = []"
   ]
  },
  {
   "cell_type": "code",
   "execution_count": 8,
   "metadata": {
    "collapsed": true
   },
   "outputs": [],
   "source": [
    "train = pd.read_csv(\"summary-english-truth.txt\", header=0, delimiter=\"\\t\", quoting=1)\n",
    "train_y_gender = train['gender']\n",
    "list_of_scores = []"
   ]
  },
  {
   "cell_type": "code",
   "execution_count": 9,
   "metadata": {
    "collapsed": false
   },
   "outputs": [],
   "source": [
    "clf1 = svm.SVC(kernel='poly', degree=3, coef0=10, gamma=1)"
   ]
  },
  {
   "cell_type": "code",
   "execution_count": 10,
   "metadata": {
    "collapsed": true
   },
   "outputs": [],
   "source": [
    "scores_age_with_gender_features = cross_validation.cross_val_score(clf1, gender_features_smaller_train_x, train_y_age, cv=10, scoring='accuracy')"
   ]
  },
  {
   "cell_type": "code",
   "execution_count": 11,
   "metadata": {
    "collapsed": false
   },
   "outputs": [
    {
     "data": {
      "text/plain": [
       "0.7333613445378151"
      ]
     },
     "execution_count": 11,
     "metadata": {},
     "output_type": "execute_result"
    }
   ],
   "source": [
    "scores_age_with_gender_features.mean()"
   ]
  },
  {
   "cell_type": "code",
   "execution_count": 12,
   "metadata": {
    "collapsed": true
   },
   "outputs": [],
   "source": [
    "clf2 = svm.SVC(kernel='poly', degree=2, coef0=10000, gamma=1)"
   ]
  },
  {
   "cell_type": "code",
   "execution_count": 13,
   "metadata": {
    "collapsed": true
   },
   "outputs": [],
   "source": [
    "scores_gender_with_age_features = cross_validation.cross_val_score(clf2, age_features_smaller_train_x, train_y_gender, cv=10, scoring='accuracy')"
   ]
  },
  {
   "cell_type": "code",
   "execution_count": 14,
   "metadata": {
    "collapsed": false
   },
   "outputs": [
    {
     "data": {
      "text/plain": [
       "0.74375000000000013"
      ]
     },
     "execution_count": 14,
     "metadata": {},
     "output_type": "execute_result"
    }
   ],
   "source": [
    "scores_gender_with_age_features.mean()"
   ]
  },
  {
   "cell_type": "code",
   "execution_count": 21,
   "metadata": {
    "collapsed": true
   },
   "outputs": [],
   "source": [
    "clf3 = svm.SVC(kernel='poly', degree=3, coef0=10, gamma=1)\n",
    "scores_age_with_age_features = cross_validation.cross_val_score(clf3, age_features_smaller_train_x, train_y_age, cv=10, scoring='accuracy')"
   ]
  },
  {
   "cell_type": "code",
   "execution_count": 22,
   "metadata": {
    "collapsed": false
   },
   "outputs": [
    {
     "data": {
      "text/plain": [
       "0.80960784313725487"
      ]
     },
     "execution_count": 22,
     "metadata": {},
     "output_type": "execute_result"
    }
   ],
   "source": [
    "scores_age_with_age_features.mean()"
   ]
  },
  {
   "cell_type": "code",
   "execution_count": 23,
   "metadata": {
    "collapsed": true
   },
   "outputs": [],
   "source": [
    "clf4 = svm.SVC(kernel='poly', degree=2, coef0=10000, gamma=1)\n",
    "scores_gender_with_gender_features = cross_validation.cross_val_score(clf4, gender_features_smaller_train_x, train_y_gender, cv=10, scoring='accuracy')"
   ]
  },
  {
   "cell_type": "code",
   "execution_count": 24,
   "metadata": {
    "collapsed": false
   },
   "outputs": [
    {
     "data": {
      "text/plain": [
       "0.78035714285714275"
      ]
     },
     "execution_count": 24,
     "metadata": {},
     "output_type": "execute_result"
    }
   ],
   "source": [
    "scores_gender_with_gender_features.mean()"
   ]
  },
  {
   "cell_type": "code",
   "execution_count": 25,
   "metadata": {
    "collapsed": true
   },
   "outputs": [],
   "source": [
    "#testing statistical significance"
   ]
  },
  {
   "cell_type": "code",
   "execution_count": 26,
   "metadata": {
    "collapsed": true
   },
   "outputs": [],
   "source": [
    "from scipy import stats\n",
    "import pandas as pd\n",
    "\n",
    "z_stat, p_val_age = stats.ranksums(scores_age_with_gender_features, scores_age_with_age_features)\n"
   ]
  },
  {
   "cell_type": "code",
   "execution_count": 27,
   "metadata": {
    "collapsed": false
   },
   "outputs": [
    {
     "data": {
      "text/plain": [
       "0.15092695006671628"
      ]
     },
     "execution_count": 27,
     "metadata": {},
     "output_type": "execute_result"
    }
   ],
   "source": [
    "p_val_age"
   ]
  },
  {
   "cell_type": "code",
   "execution_count": 29,
   "metadata": {
    "collapsed": true
   },
   "outputs": [],
   "source": [
    "z_stat, p_val_gender = stats.ranksums(scores_gender_with_age_features, scores_gender_with_gender_features)"
   ]
  },
  {
   "cell_type": "code",
   "execution_count": 30,
   "metadata": {
    "collapsed": false
   },
   "outputs": [
    {
     "data": {
      "text/plain": [
       "0.52052288327577267"
      ]
     },
     "execution_count": 30,
     "metadata": {},
     "output_type": "execute_result"
    }
   ],
   "source": [
    "p_val_gender"
   ]
  },
  {
   "cell_type": "code",
   "execution_count": 31,
   "metadata": {
    "collapsed": false
   },
   "outputs": [
    {
     "data": {
      "text/plain": [
       "-0.64253960411568634"
      ]
     },
     "execution_count": 31,
     "metadata": {},
     "output_type": "execute_result"
    }
   ],
   "source": []
  },
  {
   "cell_type": "code",
   "execution_count": null,
   "metadata": {
    "collapsed": true
   },
   "outputs": [],
   "source": []
  }
 ],
 "metadata": {
  "kernelspec": {
   "display_name": "Python 2",
   "language": "python",
   "name": "python2"
  },
  "language_info": {
   "codemirror_mode": {
    "name": "ipython",
    "version": 2
   },
   "file_extension": ".py",
   "mimetype": "text/x-python",
   "name": "python",
   "nbconvert_exporter": "python",
   "pygments_lexer": "ipython2",
   "version": "2.7.6"
  }
 },
 "nbformat": 4,
 "nbformat_minor": 0
}
